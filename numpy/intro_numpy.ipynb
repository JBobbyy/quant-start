{
 "cells": [
  {
   "cell_type": "code",
   "execution_count": 37,
   "metadata": {},
   "outputs": [],
   "source": [
    "import numpy as np\n",
    "import matplotlib.pyplot as plt"
   ]
  },
  {
   "cell_type": "markdown",
   "metadata": {},
   "source": [
    "### Basic NumPy Arrays"
   ]
  },
  {
   "cell_type": "code",
   "execution_count": 38,
   "metadata": {},
   "outputs": [],
   "source": [
    "stock_list = [3.5, 5, 2, 8, 4.2]"
   ]
  },
  {
   "cell_type": "code",
   "execution_count": 39,
   "metadata": {},
   "outputs": [
    {
     "name": "stdout",
     "output_type": "stream",
     "text": [
      "[3.5 5.  2.  8.  4.2]\n"
     ]
    },
    {
     "data": {
      "text/plain": [
       "(None, numpy.ndarray)"
      ]
     },
     "execution_count": 39,
     "metadata": {},
     "output_type": "execute_result"
    }
   ],
   "source": [
    "returns = np.array(stock_list)\n",
    "print(returns), type(returns)"
   ]
  },
  {
   "cell_type": "markdown",
   "metadata": {},
   "source": [
    "ndarray because NumPy let's you create a multi dimensional array in case you, for example, pass to np.array a list of list."
   ]
  },
  {
   "cell_type": "code",
   "execution_count": 40,
   "metadata": {},
   "outputs": [
    {
     "name": "stdout",
     "output_type": "stream",
     "text": [
      "[[1 2]\n",
      " [3 4]]\n"
     ]
    },
    {
     "data": {
      "text/plain": [
       "(None, numpy.ndarray)"
      ]
     },
     "execution_count": 40,
     "metadata": {},
     "output_type": "execute_result"
    }
   ],
   "source": [
    "A = np.array([[1, 2], [3, 4]])\n",
    "print(A), type(A)"
   ]
  },
  {
   "cell_type": "code",
   "execution_count": 41,
   "metadata": {},
   "outputs": [
    {
     "name": "stdout",
     "output_type": "stream",
     "text": [
      "(2, 2)\n"
     ]
    }
   ],
   "source": [
    "print(A.shape)"
   ]
  },
  {
   "cell_type": "code",
   "execution_count": 42,
   "metadata": {},
   "outputs": [
    {
     "name": "stdout",
     "output_type": "stream",
     "text": [
      "3.5 4.2\n"
     ]
    }
   ],
   "source": [
    "print(returns[0], returns[len(returns) - 1])"
   ]
  },
  {
   "cell_type": "code",
   "execution_count": 43,
   "metadata": {},
   "outputs": [
    {
     "name": "stdout",
     "output_type": "stream",
     "text": [
      "[5. 2.]\n"
     ]
    }
   ],
   "source": [
    "print(returns[1:3])"
   ]
  },
  {
   "cell_type": "code",
   "execution_count": 44,
   "metadata": {},
   "outputs": [
    {
     "name": "stdout",
     "output_type": "stream",
     "text": [
      "[1 3]\n"
     ]
    }
   ],
   "source": [
    "print(A[:, 0])"
   ]
  },
  {
   "cell_type": "code",
   "execution_count": 45,
   "metadata": {},
   "outputs": [
    {
     "name": "stdout",
     "output_type": "stream",
     "text": [
      "[1 2]\n"
     ]
    }
   ],
   "source": [
    "print(A[0, :])"
   ]
  },
  {
   "cell_type": "code",
   "execution_count": 46,
   "metadata": {},
   "outputs": [
    {
     "name": "stdout",
     "output_type": "stream",
     "text": [
      "<class 'numpy.ndarray'>\n"
     ]
    }
   ],
   "source": [
    "print(type(A[0, :]))"
   ]
  },
  {
   "cell_type": "code",
   "execution_count": 47,
   "metadata": {},
   "outputs": [
    {
     "name": "stdout",
     "output_type": "stream",
     "text": [
      "[1 2]\n"
     ]
    }
   ],
   "source": [
    "print(A[0])"
   ]
  },
  {
   "cell_type": "code",
   "execution_count": 48,
   "metadata": {},
   "outputs": [
    {
     "name": "stdout",
     "output_type": "stream",
     "text": [
      "4\n"
     ]
    }
   ],
   "source": [
    "print(A[1, 1])"
   ]
  },
  {
   "cell_type": "markdown",
   "metadata": {},
   "source": [
    "### Array functions"
   ]
  },
  {
   "cell_type": "code",
   "execution_count": 49,
   "metadata": {},
   "outputs": [
    {
     "data": {
      "text/plain": [
       "array([1.25276297, 1.60943791, 0.69314718, 2.07944154, 1.43508453])"
      ]
     },
     "execution_count": 49,
     "metadata": {},
     "output_type": "execute_result"
    }
   ],
   "source": [
    "np.log(returns)"
   ]
  },
  {
   "cell_type": "code",
   "execution_count": 50,
   "metadata": {},
   "outputs": [
    {
     "name": "stdout",
     "output_type": "stream",
     "text": [
      "4.54\n"
     ]
    }
   ],
   "source": [
    "print(np.mean(returns))"
   ]
  },
  {
   "cell_type": "code",
   "execution_count": 51,
   "metadata": {},
   "outputs": [
    {
     "name": "stdout",
     "output_type": "stream",
     "text": [
      "8.0\n"
     ]
    }
   ],
   "source": [
    "print(max(returns))"
   ]
  },
  {
   "cell_type": "code",
   "execution_count": 52,
   "metadata": {},
   "outputs": [
    {
     "data": {
      "text/plain": [
       "array([12. , 15. ,  9. , 21. , 13.4])"
      ]
     },
     "execution_count": 52,
     "metadata": {},
     "output_type": "execute_result"
    }
   ],
   "source": [
    "# Return to the returns\n",
    "returns * 2 + 5"
   ]
  },
  {
   "cell_type": "code",
   "execution_count": 53,
   "metadata": {},
   "outputs": [
    {
     "name": "stdout",
     "output_type": "stream",
     "text": [
      "Mean: 4.54 Std Dev: 1.9915822855207364\n"
     ]
    }
   ],
   "source": [
    "print(\"Mean:\", np.mean(returns), \"Std Dev:\", np.std(returns))"
   ]
  },
  {
   "cell_type": "code",
   "execution_count": 54,
   "metadata": {},
   "outputs": [],
   "source": [
    "N = 10\n",
    "assets = np.zeros((N, 100))\n",
    "returns = np.zeros((N, 100))"
   ]
  },
  {
   "cell_type": "code",
   "execution_count": 55,
   "metadata": {},
   "outputs": [],
   "source": [
    "# The random module is very useful. It contains methods for sampling from many different probability distributions. \n",
    "# In this case we draw N = 100 random samples from a normal distribution with mean 1.01 and standard deviation 0.03. \n",
    "# We treat these as the daily percentage returns of our assets and take the cumulative product to get the current price.\n",
    "R_1 = np.random.normal(1.01, 0.03, 100)\n",
    "returns[0] = R_1\n",
    "assets[0] = np.cumprod(R_1)"
   ]
  },
  {
   "cell_type": "code",
   "execution_count": 56,
   "metadata": {},
   "outputs": [],
   "source": [
    "# Generate assets that are correlated with R_1\n",
    "for i in range(1, N):\n",
    "    R_i = R_1 + np.random.normal(0.001, 0.02, 100)\n",
    "    returns[i] = R_i # Set each row of returns equal to the new R_i array\n",
    "    assets[i] = np.cumprod(R_i)\n",
    "\n",
    "mean_returns = [(np.mean(R) - 1) * 100 for R in returns]\n",
    "return_volatilities = [np.std(R) for R in returns]"
   ]
  },
  {
   "cell_type": "code",
   "execution_count": 57,
   "metadata": {},
   "outputs": [
    {
     "data": {
      "image/png": "[encoded data removed]",
      "text/plain": [
       "<Figure size 640x480 with 1 Axes>"
      ]
     },
     "metadata": {},
     "output_type": "display_data"
    }
   ],
   "source": [
    "plt.bar(np.arange(len(mean_returns)), mean_returns)\n",
    "plt.xlabel('Stock')\n",
    "plt.ylabel('Returns')\n",
    "plt.title('Returns for {0} Random Assets'.format(N));"
   ]
  },
  {
   "cell_type": "markdown",
   "metadata": {},
   "source": [
    "### Calculating Excepted Return "
   ]
  },
  {
   "cell_type": "code",
   "execution_count": 58,
   "metadata": {},
   "outputs": [],
   "source": [
    "# Generate N random weights for each asset in the portfolio\n",
    "weights = np.random.uniform(0, 1, N)\n",
    "weights = weights/np.sum(weights)"
   ]
  },
  {
   "cell_type": "code",
   "execution_count": 59,
   "metadata": {},
   "outputs": [
    {
     "name": "stdout",
     "output_type": "stream",
     "text": [
      "Expected return of the portfolio: 0.869065409809809\n"
     ]
    }
   ],
   "source": [
    "# To calculate the mean return of the portfolio, we have to scale each asset's return by its designated weight.\n",
    "p_returns = np.dot(mean_returns, weights)\n",
    "print(\"Expected return of the portfolio:\", p_returns)\n"
   ]
  },
  {
   "cell_type": "markdown",
   "metadata": {},
   "source": [
    "Beware of NaN values"
   ]
  },
  {
   "cell_type": "code",
   "execution_count": 60,
   "metadata": {},
   "outputs": [
    {
     "name": "stdout",
     "output_type": "stream",
     "text": [
      "[ 1.  2. nan  4.  5.]\n"
     ]
    }
   ],
   "source": [
    "v = np.array([1, 2, np.nan, 4, 5])\n",
    "print(v)"
   ]
  },
  {
   "cell_type": "code",
   "execution_count": 61,
   "metadata": {},
   "outputs": [
    {
     "name": "stdout",
     "output_type": "stream",
     "text": [
      "nan\n"
     ]
    }
   ],
   "source": [
    "# What happens when we try to take the mean of this array?\n",
    "print(np.mean(v))"
   ]
  },
  {
   "cell_type": "code",
   "execution_count": 62,
   "metadata": {},
   "outputs": [
    {
     "data": {
      "text/plain": [
       "array([False, False,  True, False, False])"
      ]
     },
     "execution_count": 62,
     "metadata": {},
     "output_type": "execute_result"
    }
   ],
   "source": [
    "# We can check for nan values with the isnan() function.\n",
    "np.isnan(v)"
   ]
  },
  {
   "cell_type": "code",
   "execution_count": 63,
   "metadata": {},
   "outputs": [
    {
     "name": "stdout",
     "output_type": "stream",
     "text": [
      "[1. 2. 4. 5.]\n"
     ]
    }
   ],
   "source": [
    "# NumPy arrays can be indexed by boolean values (True or False). If we use a boolean array to index an array, \n",
    "# we will remove all values of the array that register as False under the condition. We use the isnan() function in create a boolean array, \n",
    "# assigning a True value to everything that is not nan and a False to the nans and we use that to index the same array.\n",
    "ix = ~np.isnan(v) # ~ indicates a logical not, inverting bools\n",
    "print(v[ix])\n",
    "\n",
    "# alternative v[~np.isnan(v)]"
   ]
  },
  {
   "cell_type": "code",
   "execution_count": 64,
   "metadata": {},
   "outputs": [
    {
     "name": "stdout",
     "output_type": "stream",
     "text": [
      "3.0\n"
     ]
    }
   ],
   "source": [
    "print(np.mean(v[ix]))"
   ]
  },
  {
   "cell_type": "code",
   "execution_count": 65,
   "metadata": {},
   "outputs": [
    {
     "name": "stdout",
     "output_type": "stream",
     "text": [
      "3.0\n"
     ]
    }
   ],
   "source": [
    "print(np.nanmean(v))"
   ]
  },
  {
   "cell_type": "markdown",
   "metadata": {},
   "source": [
    "### Linear Algebra for Financial Calculation"
   ]
  },
  {
   "cell_type": "markdown",
   "metadata": {},
   "source": [
    "We can express the matrix equation as: $y = A\\cdot x$\n",
    "Where A is an m x n matrix, y is a m x 1 vector, and x is a n x 1 vector. On the right-hand side of the equation we are multiplying a matrix by a vector.\n"
   ]
  },
  {
   "cell_type": "markdown",
   "metadata": {},
   "source": [
    "#### Matrix multiplication"
   ]
  },
  {
   "cell_type": "code",
   "execution_count": 66,
   "metadata": {},
   "outputs": [],
   "source": [
    "A = np.array([\n",
    "    [1, 2, 3, 12, 6],\n",
    "    [4, 5, 6, 15, 20],\n",
    "    [7, 8, 9, 10, 10]\n",
    "])\n",
    "B = np.array([\n",
    "    [4, 4, 2],\n",
    "    [2, 3, 1],\n",
    "    [6, 5, 8],\n",
    "    [9, 9, 9]\n",
    "])"
   ]
  },
  {
   "cell_type": "code",
   "execution_count": 68,
   "metadata": {},
   "outputs": [
    {
     "ename": "ValueError",
     "evalue": "shapes (3,5) and (4,3) not aligned: 5 (dim 1) != 4 (dim 0)",
     "output_type": "error",
     "traceback": [
      "\u001b[1;31m---------------------------------------------------------------------------\u001b[0m",
      "\u001b[1;31mValueError\u001b[0m                                Traceback (most recent call last)",
      "Cell \u001b[1;32mIn[68], line 1\u001b[0m\n\u001b[1;32m----> 1\u001b[0m \u001b[38;5;28mprint\u001b[39m(\u001b[43mnp\u001b[49m\u001b[38;5;241;43m.\u001b[39;49m\u001b[43mdot\u001b[49m\u001b[43m(\u001b[49m\u001b[43mA\u001b[49m\u001b[43m,\u001b[49m\u001b[43m \u001b[49m\u001b[43mB\u001b[49m\u001b[43m)\u001b[49m)\n",
      "File \u001b[1;32m<__array_function__ internals>:200\u001b[0m, in \u001b[0;36mdot\u001b[1;34m(*args, **kwargs)\u001b[0m\n",
      "\u001b[1;31mValueError\u001b[0m: shapes (3,5) and (4,3) not aligned: 5 (dim 1) != 4 (dim 0)"
     ]
    }
   ],
   "source": [
    "print(np.dot(A, B))"
   ]
  },
  {
   "cell_type": "code",
   "execution_count": 69,
   "metadata": {},
   "outputs": [
    {
     "name": "stdout",
     "output_type": "stream",
     "text": [
      "[[ 34  44  54 128 124]\n",
      " [ 21  27  33  79  82]\n",
      " [ 82 101 120 227 216]\n",
      " [108 135 162 333 324]]\n"
     ]
    }
   ],
   "source": [
    "print(np.dot(B, A))"
   ]
  },
  {
   "cell_type": "markdown",
   "metadata": {},
   "source": [
    "### Portfolio Variance"
   ]
  },
  {
   "cell_type": "markdown",
   "metadata": {},
   "source": [
    "Let's start by evaluating the portfolio as a sum of each individual asset, scaled by its weight."
   ]
  },
  {
   "cell_type": "markdown",
   "metadata": {},
   "source": [
    "<math xmlns=\"http://www.w3.org/1998/Math/MathML\" display=\"block\">\n",
    "  <mi>V</mi>\n",
    "  <mi>A</mi>\n",
    "  <mi>R</mi>\n",
    "  <mo stretchy=\"false\">[</mo>\n",
    "  <mi>P</mi>\n",
    "  <mo stretchy=\"false\">]</mo>\n",
    "  <mo>=</mo>\n",
    "  <mi>V</mi>\n",
    "  <mi>A</mi>\n",
    "  <mi>R</mi>\n",
    "  <mo stretchy=\"false\">[</mo>\n",
    "  <msub>\n",
    "    <mi>&#x3C9;</mi>\n",
    "    <mn>1</mn>\n",
    "  </msub>\n",
    "  <msub>\n",
    "    <mi>S</mi>\n",
    "    <mn>1</mn>\n",
    "  </msub>\n",
    "  <mo>+</mo>\n",
    "  <msub>\n",
    "    <mi>&#x3C9;</mi>\n",
    "    <mn>2</mn>\n",
    "  </msub>\n",
    "  <msub>\n",
    "    <mi>S</mi>\n",
    "    <mn>2</mn>\n",
    "  </msub>\n",
    "  <mo>+</mo>\n",
    "  <mo>&#x22EF;</mo>\n",
    "  <mo>+</mo>\n",
    "  <msub>\n",
    "    <mi>&#x3C9;</mi>\n",
    "    <mi>N</mi>\n",
    "  </msub>\n",
    "  <msub>\n",
    "    <mi>S</mi>\n",
    "    <mi>N</mi>\n",
    "  </msub>\n",
    "  <mo stretchy=\"false\">]</mo>\n",
    "</math>"
   ]
  },
  {
   "cell_type": "markdown",
   "metadata": {},
   "source": [
    "<math xmlns=\"http://www.w3.org/1998/Math/MathML\" display=\"block\">\n",
    "  <mi>V</mi>\n",
    "  <mi>A</mi>\n",
    "  <mi>R</mi>\n",
    "  <mo stretchy=\"false\">[</mo>\n",
    "  <mi>P</mi>\n",
    "  <mo stretchy=\"false\">]</mo>\n",
    "  <mo>=</mo>\n",
    "  <msubsup>\n",
    "    <mi>&#x3C3;</mi>\n",
    "    <mi>P</mi>\n",
    "    <mn>2</mn>\n",
    "  </msubsup>\n",
    "  <mo>=</mo>\n",
    "  <munder>\n",
    "    <mo data-mjx-texclass=\"OP\">&#x2211;</mo>\n",
    "    <mi>i</mi>\n",
    "  </munder>\n",
    "  <msubsup>\n",
    "    <mi>&#x3C9;</mi>\n",
    "    <mi>i</mi>\n",
    "    <mn>2</mn>\n",
    "  </msubsup>\n",
    "  <msubsup>\n",
    "    <mi>&#x3C3;</mi>\n",
    "    <mi>i</mi>\n",
    "    <mn>2</mn>\n",
    "  </msubsup>\n",
    "  <mo>+</mo>\n",
    "  <munder>\n",
    "    <mo data-mjx-texclass=\"OP\">&#x2211;</mo>\n",
    "    <mi>i</mi>\n",
    "  </munder>\n",
    "  <munder>\n",
    "    <mo data-mjx-texclass=\"OP\">&#x2211;</mo>\n",
    "    <mrow data-mjx-texclass=\"ORD\">\n",
    "      <mi>i</mi>\n",
    "      <mo>&#x2260;</mo>\n",
    "      <mi>j</mi>\n",
    "    </mrow>\n",
    "  </munder>\n",
    "  <msub>\n",
    "    <mi>&#x3C9;</mi>\n",
    "    <mi>i</mi>\n",
    "  </msub>\n",
    "  <msub>\n",
    "    <mi>&#x3C9;</mi>\n",
    "    <mi>j</mi>\n",
    "  </msub>\n",
    "  <msub>\n",
    "    <mi>&#x3C3;</mi>\n",
    "    <mi>i</mi>\n",
    "  </msub>\n",
    "  <msub>\n",
    "    <mi>&#x3C3;</mi>\n",
    "    <mi>j</mi>\n",
    "  </msub>\n",
    "  <msub>\n",
    "    <mi>&#x3C1;</mi>\n",
    "    <mrow data-mjx-texclass=\"ORD\">\n",
    "      <mi>i</mi>\n",
    "      <mo>,</mo>\n",
    "      <mi>j</mi>\n",
    "    </mrow>\n",
    "  </msub>\n",
    "  <mo>,</mo>\n",
    "  <mtext>&#xA0;</mtext>\n",
    "  <mi>i</mi>\n",
    "  <mo>,</mo>\n",
    "  <mi>j</mi>\n",
    "  <mo>&#x2208;</mo>\n",
    "  <mo fence=\"false\" stretchy=\"false\">{</mo>\n",
    "  <mn>1</mn>\n",
    "  <mo>,</mo>\n",
    "  <mn>2</mn>\n",
    "  <mo>,</mo>\n",
    "  <mo>&#x22EF;</mo>\n",
    "  <mo>,</mo>\n",
    "  <mi>N</mi>\n",
    "  <mo fence=\"false\" stretchy=\"false\">}</mo>\n",
    "</math>"
   ]
  },
  {
   "cell_type": "markdown",
   "metadata": {},
   "source": [
    "Where <math xmlns=\"http://www.w3.org/1998/Math/MathML\"><msub><mi>&#x3C1;</mi><mrow data-mjx-texclass=\"ORD\"><mi>i</mi><mo>,</mo><mi>j</mi></mrow></msub></math> is the correlation between $S_i$ and $S_j$. This seems complicated, but we can use NumPy arrays. First, we calculate the covariance matrix that relates all the individual stocks in our universe."
   ]
  },
  {
   "cell_type": "code",
   "execution_count": 71,
   "metadata": {},
   "outputs": [
    {
     "name": "stdout",
     "output_type": "stream",
     "text": [
      "[[0.00075044 0.00077457 0.00070954 0.00063211 0.00075018 0.00078172\n",
      "  0.00069645 0.00078509 0.00070406 0.00073717]\n",
      " [0.00077457 0.00121195 0.00072468 0.00065202 0.00077884 0.00083762\n",
      "  0.00075129 0.00082114 0.00068587 0.0008099 ]\n",
      " [0.00070954 0.00072468 0.00108061 0.00055774 0.00069154 0.00070863\n",
      "  0.00070593 0.00080699 0.0006538  0.00076042]\n",
      " [0.00063211 0.00065202 0.00055774 0.00084762 0.00066073 0.00067701\n",
      "  0.0005766  0.00066158 0.00056751 0.00057095]\n",
      " [0.00075018 0.00077884 0.00069154 0.00066073 0.00113705 0.00081442\n",
      "  0.00069609 0.00076235 0.0006568  0.00070306]\n",
      " [0.00078172 0.00083762 0.00070863 0.00067701 0.00081442 0.00129424\n",
      "  0.00072836 0.00078368 0.00067976 0.00080392]\n",
      " [0.00069645 0.00075129 0.00070593 0.0005766  0.00069609 0.00072836\n",
      "  0.0010246  0.00076174 0.00062791 0.00075173]\n",
      " [0.00078509 0.00082114 0.00080699 0.00066158 0.00076235 0.00078368\n",
      "  0.00076174 0.00120555 0.0007818  0.00079341]\n",
      " [0.00070406 0.00068587 0.0006538  0.00056751 0.0006568  0.00067976\n",
      "  0.00062791 0.0007818  0.00102364 0.0006692 ]\n",
      " [0.00073717 0.0008099  0.00076042 0.00057095 0.00070306 0.00080392\n",
      "  0.00075173 0.00079341 0.0006692  0.00121847]]\n"
     ]
    }
   ],
   "source": [
    "cov_mat = np.cov(returns)\n",
    "print(cov_mat)"
   ]
  },
  {
   "cell_type": "markdown",
   "metadata": {},
   "source": [
    "We can represent the variance of the portfolio in array form as:   $\\sigma_p^2 = \\omega \\ C \\ \\omega^\\intercal$"
   ]
  },
  {
   "cell_type": "code",
   "execution_count": 73,
   "metadata": {},
   "outputs": [
    {
     "name": "stdout",
     "output_type": "stream",
     "text": [
      "[[ 1  2  3 12  6]\n",
      " [ 4  5  6 15 20]\n",
      " [ 7  8  9 10 10]]\n"
     ]
    }
   ],
   "source": [
    "# To calculate that we need to understand what is the transpose of a matrix. \n",
    "print(A)"
   ]
  },
  {
   "cell_type": "code",
   "execution_count": 74,
   "metadata": {},
   "outputs": [
    {
     "name": "stdout",
     "output_type": "stream",
     "text": [
      "[[ 1  4  7]\n",
      " [ 2  5  8]\n",
      " [ 3  6  9]\n",
      " [12 15 10]\n",
      " [ 6 20 10]]\n"
     ]
    }
   ],
   "source": [
    "print(np.transpose(A))"
   ]
  },
  {
   "cell_type": "code",
   "execution_count": 75,
   "metadata": {},
   "outputs": [
    {
     "name": "stdout",
     "output_type": "stream",
     "text": [
      "Portfolio volatility: 0.028029130133868638\n"
     ]
    }
   ],
   "source": [
    "# We'll use the dot() function for matrix multiplication (1 x N)(N x N)(N x 1) = (1 x 1)\n",
    "var_p = np.dot(np.dot(weights, cov_mat), weights.T)\n",
    "vol_p = np.sqrt(var_p)\n",
    "print(\"Portfolio volatility:\", vol_p)"
   ]
  },
  {
   "cell_type": "markdown",
   "metadata": {},
   "source": [
    "To confirm this calculation, let's simply evaluate the volatility of the portfolio using only NumPy functions."
   ]
  },
  {
   "cell_type": "code",
   "execution_count": 80,
   "metadata": {},
   "outputs": [
    {
     "name": "stdout",
     "output_type": "stream",
     "text": [
      "Portfolio volatility: 0.02802913013386861\n"
     ]
    }
   ],
   "source": [
    "# The ddof parameter is a simple integer input that tells the function the number of degrees of freedom to take into account. \n",
    "vol_p_alt = np.sqrt(np.var(np.dot(weights, returns), ddof=1))\n",
    "print(\"Portfolio volatility:\", vol_p_alt)"
   ]
  }
 ],
 "metadata": {
  "kernelspec": {
   "display_name": "Python 3",
   "language": "python",
   "name": "python3"
  },
  "language_info": {
   "codemirror_mode": {
    "name": "ipython",
    "version": 3
   },
   "file_extension": ".py",
   "mimetype": "text/x-python",
   "name": "python",
   "nbconvert_exporter": "python",
   "pygments_lexer": "ipython3",
   "version": "3.11.1"
  }
 },
 "nbformat": 4,
 "nbformat_minor": 2
}
