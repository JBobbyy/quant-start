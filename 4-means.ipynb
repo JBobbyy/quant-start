{
 "cells": [
  {
   "cell_type": "markdown",
   "metadata": {},
   "source": [
    "### Measures of Central Tendency"
   ]
  },
  {
   "cell_type": "markdown",
   "metadata": {},
   "source": [
    "#### Arithmetic mean"
   ]
  },
  {
   "cell_type": "code",
   "execution_count": 9,
   "metadata": {},
   "outputs": [
    {
     "name": "stdout",
     "output_type": "stream",
     "text": [
      "Mean of x1: 29 / 8 = 3.625\n",
      "Mean of x2: 129 / 9 = 14.333333333333334\n"
     ]
    }
   ],
   "source": [
    "# Two useful statistical libraries\n",
    "import scipy.stats as stats\n",
    "import numpy as np\n",
    "import yfinance as yf\n",
    "\n",
    "# We'll use these two data sets as examples\n",
    "x1 = [1, 2, 2, 3, 4, 5, 5, 7]\n",
    "x2 = x1 + [100]\n",
    "\n",
    "print('Mean of x1:', sum(x1), '/', len(x1), '=', np.mean(x1))\n",
    "print('Mean of x2:', sum(x2), '/', len(x2), '=', np.mean(x2))"
   ]
  },
  {
   "cell_type": "markdown",
   "metadata": {},
   "source": [
    "We can also define a weighted arithmetic mean, which is useful for explicitly specifying the number of times each observation should be counted. For instance, in computing the average value of a portfolio, it is more convenient to say that 70% of your stocks are of type X rather than making a list of every share you hold.\n",
    "The weighted arithmetic mean is defined as $\\sum_{i=1}^n w_i X_i$ "
   ]
  },
  {
   "cell_type": "markdown",
   "metadata": {},
   "source": [
    "#### Median"
   ]
  },
  {
   "cell_type": "markdown",
   "metadata": {},
   "source": [
    "The median of a set of data is the number which appears in the middle of the list when it is sorted in increasing or decreasing order. When we have an odd number n of data points, this is simply the value in position (n + 1) / 2. When we have an even number of data points, the list splits in half and there is no item in the middle; so we define the median as the average of the values in positions n/2 and (n/2) + 1"
   ]
  },
  {
   "cell_type": "code",
   "execution_count": 2,
   "metadata": {},
   "outputs": [
    {
     "name": "stdout",
     "output_type": "stream",
     "text": [
      "Median of x1: 3.5\n",
      "Median of x2: 4.0\n"
     ]
    }
   ],
   "source": [
    "print('Median of x1:', np.median(x1))\n",
    "print('Median of x2:', np.median(x2))"
   ]
  },
  {
   "cell_type": "markdown",
   "metadata": {},
   "source": [
    "#### Mode"
   ]
  },
  {
   "cell_type": "markdown",
   "metadata": {},
   "source": [
    "The mode is the most occuring value in a data set. It can be applied to non-numerical data, unlike the mean and the median. One situation in which it is useful is for data whose possible values are independent. For example, in the outcomes of a weighted die, coming up 6 often does not mean it is likely to come up 5; so knowing that the data set has a mode of 6 is more useful than knowing it has a mean of 4.5."
   ]
  },
  {
   "cell_type": "code",
   "execution_count": 3,
   "metadata": {},
   "outputs": [
    {
     "name": "stdout",
     "output_type": "stream",
     "text": [
      "One mode of x1: 2\n",
      "All of the modes of x1: [2, 5]\n"
     ]
    }
   ],
   "source": [
    "print('One mode of x1:', stats.mode(x1)[0])\n",
    "\n",
    "def mode(l):\n",
    "    # Count the number of times each element appears in the list\n",
    "    counts = {}\n",
    "    for e in l:\n",
    "        if e in counts:\n",
    "            counts[e] += 1\n",
    "        else:\n",
    "            counts[e] = 1\n",
    "    \n",
    "    # Return the elements that appear the most times\n",
    "    maxcount = 0\n",
    "    modes = {}\n",
    "    for (k, v) in counts.items():\n",
    "        if v > maxcount:\n",
    "            maxcount = v\n",
    "            modes = {k}\n",
    "        elif v == maxcount:\n",
    "            modes.add(k)\n",
    "    \n",
    "    if maxcount > 1 or len(l) == 1:\n",
    "        return list(modes)\n",
    "    return 'No mode'\n",
    "\n",
    "print('All of the modes of x1:', mode(x1))\n",
    "        \n"
   ]
  },
  {
   "cell_type": "code",
   "execution_count": 30,
   "metadata": {},
   "outputs": [
    {
     "name": "stdout",
     "output_type": "stream",
     "text": [
      "Mode of returns: No mode\n",
      "Mode of bins: [(-0.0017507137682292555, 0.0005916424597657843)]\n"
     ]
    }
   ],
   "source": [
    "# Get return data for an asset and compute the mode of the data set\n",
    "start = '2014-01-01'\n",
    "end = '2015-01-01'\n",
    "pricing = yf.Ticker('^GSPC').history(start=start, end=end)['Close']\n",
    "returns = pricing.pct_change()[1:]\n",
    "print(\"Mode of returns:\", mode(returns))\n",
    "\n",
    "# Since all the returns are distinct, we use a frequency distribution to get an alternative mode.\n",
    "# np.histogram returns the frequency distribution over the bins as well as the endpoints of the bins\n",
    "hist, bins = np.histogram(returns, 20) # Break data up into 20 bins\n",
    "maxfreq = max(hist)\n",
    "\n",
    "# Find all of the bins that are hit with frequency maxfreq, then print the intervals corresponding to them\n",
    "print(\"Mode of bins:\", [(bins[i], bins[i+1]) for i, j in enumerate(hist) if j == maxfreq])"
   ]
  },
  {
   "cell_type": "markdown",
   "metadata": {},
   "source": [
    "### Geometric mean\n",
    "\n",
    "The geometric mean averages using multiplication."
   ]
  },
  {
   "cell_type": "markdown",
   "metadata": {},
   "source": [
    "$G = \\sqrt[n]{X_1X_1\\ldots X_n}$"
   ]
  },
  {
   "cell_type": "code",
   "execution_count": 25,
   "metadata": {},
   "outputs": [
    {
     "name": "stdout",
     "output_type": "stream",
     "text": [
      "Geometric mean of x1: 3.0941040249774403\n",
      "Geometric mean of x2: 4.552534587620071\n"
     ]
    }
   ],
   "source": [
    "# Use the scipy's gmean function to compute the geometric mean.\n",
    "print(\"Geometric mean of x1:\", stats.gmean(x1))\n",
    "print(\"Geometric mean of x2:\", stats.gmean(x2))"
   ]
  },
  {
   "cell_type": "markdown",
   "metadata": {},
   "source": [
    "What if we want to compute geometric mean when we have negative values? This problem is easy to solve in the case of asset returns, where our observations are always at least -1. We can add 1 to a return $R_t$ to get $1+R_t$, which is the ratio of the price of the asset for two consecutive periods (as opposed to the percent change between the prices, $R_t$). This quantity will always be nonnegative. So we can compute the geometric mean return."
   ]
  },
  {
   "cell_type": "code",
   "execution_count": 26,
   "metadata": {},
   "outputs": [
    {
     "name": "stdout",
     "output_type": "stream",
     "text": [
      "Geometric mean of returns: 0.0004653451863809721\n"
     ]
    }
   ],
   "source": [
    "# Add 1 to every value in the returns array and then compute R_G\n",
    "ratios = returns + np.ones(len(returns))\n",
    "R_G = stats.gmean(ratios) - 1\n",
    "print(\"Geometric mean of returns:\", R_G)"
   ]
  },
  {
   "cell_type": "markdown",
   "metadata": {},
   "source": [
    "The geometric mean is defined so that if the rate of return over the whole time period were constant and equal to $R_G$, the final price of the security would be the same as in the case of returns $R_1,...,R_T$"
   ]
  },
  {
   "cell_type": "code",
   "execution_count": 33,
   "metadata": {},
   "outputs": [
    {
     "name": "stdout",
     "output_type": "stream",
     "text": [
      "Initial price: 1831.97998046875\n",
      "Final price: 2058.89990234375\n",
      "Final price as computed with R_G: 2058.899902343742\n"
     ]
    }
   ],
   "source": [
    "T = len(returns)\n",
    "init_price = pricing.iloc[0]\n",
    "final_price = pricing.iloc[T]\n",
    "print(\"Initial price:\", init_price)\n",
    "print(\"Final price:\", final_price)\n",
    "print(\"Final price as computed with R_G:\", init_price * (1 + R_G) ** T)"
   ]
  },
  {
   "cell_type": "markdown",
   "metadata": {},
   "source": [
    "### Harmonic mean"
   ]
  },
  {
   "cell_type": "code",
   "execution_count": null,
   "metadata": {},
   "outputs": [],
   "source": []
  }
 ],
 "metadata": {
  "kernelspec": {
   "display_name": "Python 3",
   "language": "python",
   "name": "python3"
  },
  "language_info": {
   "codemirror_mode": {
    "name": "ipython",
    "version": 3
   },
   "file_extension": ".py",
   "mimetype": "text/x-python",
   "name": "python",
   "nbconvert_exporter": "python",
   "pygments_lexer": "ipython3",
   "version": "3.10.12"
  }
 },
 "nbformat": 4,
 "nbformat_minor": 2
}
