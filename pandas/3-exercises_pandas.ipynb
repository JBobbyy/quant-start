{
 "cells": [
  {
   "cell_type": "code",
   "execution_count": 142,
   "metadata": {},
   "outputs": [],
   "source": [
    "import numpy as np\n",
    "import pandas as pd\n",
    "import matplotlib.pyplot as plt\n",
    "import yfinance as yf"
   ]
  },
  {
   "cell_type": "markdown",
   "metadata": {},
   "source": [
    "#### Exercise 1"
   ]
  },
  {
   "cell_type": "code",
   "execution_count": 143,
   "metadata": {},
   "outputs": [],
   "source": [
    "l = np.random.randint(1, 100, size=1000)\n",
    "s = pd.Series(l)\n",
    "\n",
    "# datetime index starting 2016-01-01. The index should be \n",
    "# daily frequency and should be the same length as the data.\n",
    "s.index = pd.date_range(start='2016-01-01', periods=len(s), freq='D')\n"
   ]
  },
  {
   "cell_type": "markdown",
   "metadata": {},
   "source": [
    "- Print every other element of the first 50 elements of series s.\n",
    "- Find the value associated with the index 2017-02-20."
   ]
  },
  {
   "cell_type": "code",
   "execution_count": 144,
   "metadata": {},
   "outputs": [
    {
     "name": "stdout",
     "output_type": "stream",
     "text": [
      "2016-01-01    87\n",
      "2016-01-03    69\n",
      "2016-01-05    86\n",
      "2016-01-07    57\n",
      "2016-01-09    24\n",
      "2016-01-11    57\n",
      "2016-01-13     3\n",
      "2016-01-15     4\n",
      "2016-01-17    42\n",
      "2016-01-19    52\n",
      "2016-01-21    15\n",
      "2016-01-23    73\n",
      "2016-01-25    59\n",
      "2016-01-27    79\n",
      "2016-01-29    60\n",
      "2016-01-31    39\n",
      "2016-02-02    18\n",
      "2016-02-04    17\n",
      "2016-02-06    21\n",
      "2016-02-08    24\n",
      "2016-02-10    11\n",
      "2016-02-12    60\n",
      "2016-02-14    69\n",
      "2016-02-16    12\n",
      "2016-02-18    47\n",
      "Freq: 2D, dtype: int32\n",
      "73\n"
     ]
    }
   ],
   "source": [
    "print(s.iloc[:50:2]);\n",
    "print(s.loc['2017-02-20'])"
   ]
  },
  {
   "cell_type": "code",
   "execution_count": 145,
   "metadata": {},
   "outputs": [
    {
     "name": "stdout",
     "output_type": "stream",
     "text": [
      "2016-01-13    3\n",
      "2016-04-08    1\n",
      "2016-05-18    1\n",
      "2016-06-28    3\n",
      "2016-07-03    1\n",
      "2016-08-10    2\n",
      "2016-10-05    2\n",
      "2016-11-19    3\n",
      "2017-03-09    1\n",
      "2017-04-04    1\n",
      "2017-04-19    1\n",
      "2017-04-30    3\n",
      "2017-06-09    3\n",
      "2017-09-11    2\n",
      "2017-09-28    1\n",
      "2017-09-29    1\n",
      "2017-10-08    3\n",
      "2018-01-09    2\n",
      "2018-01-22    1\n",
      "2018-03-30    1\n",
      "dtype: int32\n"
     ]
    }
   ],
   "source": [
    "# In the series s, print all the values between 1 and 3. \n",
    "print(s.loc[(s >= 1) & (s <= 3)])"
   ]
  },
  {
   "cell_type": "markdown",
   "metadata": {},
   "source": [
    "#### Exercise 2"
   ]
  },
  {
   "cell_type": "code",
   "execution_count": 146,
   "metadata": {},
   "outputs": [
    {
     "name": "stdout",
     "output_type": "stream",
     "text": [
      "2016-01-01    87\n",
      "2016-01-02    10\n",
      "2016-01-03    69\n",
      "2016-01-04     5\n",
      "2016-01-05    86\n",
      "Freq: D, dtype: int32\n",
      "2018-09-22    82\n",
      "2018-09-23    41\n",
      "2018-09-24    54\n",
      "2018-09-25    50\n",
      "2018-09-26    18\n",
      "Freq: D, dtype: int32\n"
     ]
    }
   ],
   "source": [
    "# Print the first and last 5 elements of the series.\n",
    "print(s.head(5))\n",
    "print(s.tail(5))"
   ]
  },
  {
   "cell_type": "markdown",
   "metadata": {},
   "source": [
    "- Using the resample method, upsample the daily data to monthly frequency. Use the median method so that each monthly value is the median price of all the days in that month.\n",
    "- Take the daily data and fill in every day, including weekends and holidays, using forward-fills."
   ]
  },
  {
   "cell_type": "code",
   "execution_count": 147,
   "metadata": {},
   "outputs": [
    {
     "name": "stdout",
     "output_type": "stream",
     "text": [
      "[*********************100%***********************]  1 of 1 completed\n"
     ]
    }
   ],
   "source": [
    "prices = yf.download(tickers = [\"CMG\"], start = \"2012-01-01\", end = \"2016-01-01\")[\"Adj Close\"]\n"
   ]
  },
  {
   "cell_type": "code",
   "execution_count": 148,
   "metadata": {},
   "outputs": [
    {
     "data": {
      "text/plain": [
       "Date\n",
       "2012-01-31    355.505005\n",
       "2012-02-29    378.195007\n",
       "2012-03-31    408.994995\n",
       "2012-04-30    420.835007\n",
       "2012-05-31    405.240005\n",
       "Freq: M, Name: Adj Close, dtype: float64"
      ]
     },
     "execution_count": 148,
     "metadata": {},
     "output_type": "execute_result"
    }
   ],
   "source": [
    "monthly_prices = prices.resample('M').median()\n",
    "monthly_prices.head(5)"
   ]
  },
  {
   "cell_type": "code",
   "execution_count": 149,
   "metadata": {},
   "outputs": [
    {
     "data": {
      "text/plain": [
       "2012-01-01           NaN\n",
       "2012-01-02           NaN\n",
       "2012-01-03    341.269989\n",
       "2012-01-04    348.750000\n",
       "2012-01-05    350.480011\n",
       "2012-01-06    348.950012\n",
       "2012-01-07    348.950012\n",
       "2012-01-08    348.950012\n",
       "2012-01-09    339.739990\n",
       "2012-01-10    341.119995\n",
       "Freq: D, Name: Adj Close, dtype: float64"
      ]
     },
     "execution_count": 149,
     "metadata": {},
     "output_type": "execute_result"
    }
   ],
   "source": [
    "prices_everyday = prices.reindex(pd.date_range(start=\"2012-01-01\", end=\"2016-01-01\", freq='D'), method='ffill')\n",
    "prices_everyday.head(10)"
   ]
  },
  {
   "cell_type": "markdown",
   "metadata": {},
   "source": [
    "#### Exercise 3: Missing Data"
   ]
  },
  {
   "cell_type": "markdown",
   "metadata": {},
   "source": [
    "- Replace all instances of NaN using the forward fill method.\n",
    "- Instead of filling, remove all instances of NaN from the data."
   ]
  },
  {
   "cell_type": "code",
   "execution_count": 150,
   "metadata": {},
   "outputs": [
    {
     "data": {
      "text/plain": [
       "2012-01-01    341.269989\n",
       "2012-01-02    341.269989\n",
       "2012-01-03    341.269989\n",
       "2012-01-04    348.750000\n",
       "2012-01-05    350.480011\n",
       "                 ...    \n",
       "2015-12-28    493.519989\n",
       "2015-12-29    489.940002\n",
       "2015-12-30    485.790009\n",
       "2015-12-31    479.850006\n",
       "2016-01-01    479.850006\n",
       "Freq: D, Name: Adj Close, Length: 1462, dtype: float64"
      ]
     },
     "execution_count": 150,
     "metadata": {},
     "output_type": "execute_result"
    }
   ],
   "source": [
    "prices_everyday.fillna(method='bfill')"
   ]
  },
  {
   "cell_type": "code",
   "execution_count": 151,
   "metadata": {},
   "outputs": [
    {
     "data": {
      "text/plain": [
       "2012-01-03    341.269989\n",
       "2012-01-04    348.750000\n",
       "2012-01-05    350.480011\n",
       "2012-01-06    348.950012\n",
       "2012-01-07    348.950012\n",
       "                 ...    \n",
       "2015-12-28    493.519989\n",
       "2015-12-29    489.940002\n",
       "2015-12-30    485.790009\n",
       "2015-12-31    479.850006\n",
       "2016-01-01    479.850006\n",
       "Freq: D, Name: Adj Close, Length: 1460, dtype: float64"
      ]
     },
     "execution_count": 151,
     "metadata": {},
     "output_type": "execute_result"
    }
   ],
   "source": [
    "prices_everyday.dropna()"
   ]
  },
  {
   "cell_type": "markdown",
   "metadata": {},
   "source": [
    "#### Exercise 4: Time Series Analysis"
   ]
  },
  {
   "cell_type": "code",
   "execution_count": 152,
   "metadata": {},
   "outputs": [
    {
     "name": "stdout",
     "output_type": "stream",
     "text": [
      "Summary Statistics\n",
      "count    1000.000000\n",
      "mean       50.503000\n",
      "std        27.485331\n",
      "min         1.000000\n",
      "25%        27.000000\n",
      "50%        52.000000\n",
      "75%        73.000000\n",
      "max        99.000000\n",
      "dtype: float64\n"
     ]
    }
   ],
   "source": [
    "print(\"Summary Statistics\")\n",
    "print(s.describe())"
   ]
  },
  {
   "cell_type": "markdown",
   "metadata": {},
   "source": [
    "- Get the additive and multiplicative returns of this series.\n",
    "- Calculate the rolling mean with a 60 day window.\n",
    "- Calculate the standard deviation with a 60 day window."
   ]
  },
  {
   "cell_type": "code",
   "execution_count": 153,
   "metadata": {},
   "outputs": [
    {
     "name": "stdout",
     "output_type": "stream",
     "text": [
      "[*********************100%***********************]  1 of 1 completed\n"
     ]
    },
    {
     "data": {
      "text/plain": [
       "Date\n",
       "2016-01-04    183.450424\n",
       "2016-01-05    184.231064\n",
       "2016-01-06    181.769058\n",
       "2016-01-07    178.046005\n",
       "2016-01-08    175.343781\n",
       "                 ...    \n",
       "2016-12-23    191.376923\n",
       "2016-12-27    191.497025\n",
       "2016-12-28    191.196777\n",
       "2016-12-29    190.596283\n",
       "2016-12-30    189.935745\n",
       "Name: Open, Length: 252, dtype: float64"
      ]
     },
     "execution_count": 153,
     "metadata": {},
     "output_type": "execute_result"
    }
   ],
   "source": [
    "data = yf.download(tickers=['GE'], start='2016-01-01', end='2017-01-01')['Open']\n",
    "data"
   ]
  },
  {
   "cell_type": "code",
   "execution_count": 154,
   "metadata": {},
   "outputs": [],
   "source": [
    "add_returns = data.diff()[1:]\n",
    "mult_returns = data.pct_change()[1:]"
   ]
  },
  {
   "cell_type": "code",
   "execution_count": 155,
   "metadata": {},
   "outputs": [
    {
     "data": {
      "text/plain": [
       "Date\n",
       "2016-01-04           NaN\n",
       "2016-01-05           NaN\n",
       "2016-01-06           NaN\n",
       "2016-01-07           NaN\n",
       "2016-01-08           NaN\n",
       "                 ...    \n",
       "2016-12-23    181.146541\n",
       "2016-12-27    181.375729\n",
       "2016-12-28    181.613924\n",
       "2016-12-29    181.817091\n",
       "2016-12-30    182.028264\n",
       "Name: Open, Length: 252, dtype: float64"
      ]
     },
     "execution_count": 155,
     "metadata": {},
     "output_type": "execute_result"
    }
   ],
   "source": [
    "rolling_mean = data.rolling(60).mean()\n",
    "rolling_mean"
   ]
  },
  {
   "cell_type": "code",
   "execution_count": 156,
   "metadata": {},
   "outputs": [
    {
     "data": {
      "text/plain": [
       "Date\n",
       "2016-01-04         NaN\n",
       "2016-01-05         NaN\n",
       "2016-01-06         NaN\n",
       "2016-01-07         NaN\n",
       "2016-01-08         NaN\n",
       "                ...   \n",
       "2016-12-23    7.224323\n",
       "2016-12-27    7.331931\n",
       "2016-12-28    7.415898\n",
       "2016-12-29    7.493109\n",
       "2016-12-30    7.541044\n",
       "Name: Open, Length: 252, dtype: float64"
      ]
     },
     "execution_count": 156,
     "metadata": {},
     "output_type": "execute_result"
    }
   ],
   "source": [
    "rolling_std = data.rolling(60).std()\n",
    "rolling_std"
   ]
  },
  {
   "cell_type": "markdown",
   "metadata": {},
   "source": [
    "#### Exercise 5: DataFrames"
   ]
  },
  {
   "cell_type": "code",
   "execution_count": 157,
   "metadata": {},
   "outputs": [
    {
     "data": {
      "text/html": [
       "<div>\n",
       "<style scoped>\n",
       "    .dataframe tbody tr th:only-of-type {\n",
       "        vertical-align: middle;\n",
       "    }\n",
       "\n",
       "    .dataframe tbody tr th {\n",
       "        vertical-align: top;\n",
       "    }\n",
       "\n",
       "    .dataframe thead th {\n",
       "        text-align: right;\n",
       "    }\n",
       "</style>\n",
       "<table border=\"1\" class=\"dataframe\">\n",
       "  <thead>\n",
       "    <tr style=\"text-align: right;\">\n",
       "      <th></th>\n",
       "      <th>a</th>\n",
       "      <th>b</th>\n",
       "      <th>c</th>\n",
       "    </tr>\n",
       "  </thead>\n",
       "  <tbody>\n",
       "    <tr>\n",
       "      <th>fifth</th>\n",
       "      <td>1</td>\n",
       "      <td>L</td>\n",
       "      <td>0.471773</td>\n",
       "    </tr>\n",
       "    <tr>\n",
       "      <th>fourth</th>\n",
       "      <td>2</td>\n",
       "      <td>K</td>\n",
       "      <td>-0.808770</td>\n",
       "    </tr>\n",
       "    <tr>\n",
       "      <th>third</th>\n",
       "      <td>3</td>\n",
       "      <td>J</td>\n",
       "      <td>-0.798876</td>\n",
       "    </tr>\n",
       "    <tr>\n",
       "      <th>second</th>\n",
       "      <td>4</td>\n",
       "      <td>M</td>\n",
       "      <td>0.381169</td>\n",
       "    </tr>\n",
       "    <tr>\n",
       "      <th>first</th>\n",
       "      <td>5</td>\n",
       "      <td>Z</td>\n",
       "      <td>0.421127</td>\n",
       "    </tr>\n",
       "  </tbody>\n",
       "</table>\n",
       "</div>"
      ],
      "text/plain": [
       "        a  b         c\n",
       "fifth   1  L  0.471773\n",
       "fourth  2  K -0.808770\n",
       "third   3  J -0.798876\n",
       "second  4  M  0.381169\n",
       "first   5  Z  0.421127"
      ]
     },
     "execution_count": 157,
     "metadata": {},
     "output_type": "execute_result"
    }
   ],
   "source": [
    "l = ['fifth','fourth', 'third', 'second', 'first']\n",
    "dict_data = {'a' : [1, 2, 3, 4, 5], 'b' : ['L', 'K', 'J', 'M', 'Z'],'c' : np.random.normal(0, 1, 5)}\n",
    "\n",
    "df = pd.DataFrame(dict_data, index=l)\n",
    "df"
   ]
  },
  {
   "cell_type": "markdown",
   "metadata": {},
   "source": [
    "- Concatenate the following two series to form a dataframe.\n",
    "- Rename the columns to Good Numbers and Bad Numbers.\n",
    "- Change the index to be a datetime index starting on 2016-01-01."
   ]
  },
  {
   "cell_type": "code",
   "execution_count": 158,
   "metadata": {},
   "outputs": [],
   "source": [
    "s1 = pd.Series([2, 3, 5, 7, 11, 13], name='prime')\n",
    "s2 = pd.Series([1, 4, 6, 8, 9, 10], name='other')\n",
    "\n",
    "df_1 = pd.concat([s1, s2], axis=1)\n",
    "df_1.columns = [\"Good Numbers\", \"Bad Numbers\"]\n",
    "df_1.index = pd.date_range(start='2016-01-01', periods=len(df_1))"
   ]
  },
  {
   "cell_type": "markdown",
   "metadata": {},
   "source": [
    "#### Exercise 6: Accessing DataFrames elements"
   ]
  },
  {
   "cell_type": "markdown",
   "metadata": {},
   "source": [
    "- Check the data type of one of the DataFrame's columns.\n",
    "- Print the values associated with time range 2013-01-01 to 2013-01-10."
   ]
  },
  {
   "cell_type": "code",
   "execution_count": 159,
   "metadata": {},
   "outputs": [
    {
     "name": "stdout",
     "output_type": "stream",
     "text": [
      "[*********************100%***********************]  3 of 3 completed\n"
     ]
    },
    {
     "data": {
      "text/plain": [
       "Date\n",
       "2012-01-03    53.588898\n",
       "2012-01-04    53.601326\n",
       "2012-01-05    53.439335\n",
       "2012-01-06    53.040516\n",
       "2012-01-09    53.277294\n",
       "Name: XOM, dtype: float64"
      ]
     },
     "execution_count": 159,
     "metadata": {},
     "output_type": "execute_result"
    }
   ],
   "source": [
    "symbol = [\"XOM\", \"BP\", \"COP\"]\n",
    "start = \"2012-01-01\"\n",
    "end = \"2016-01-01\"\n",
    "prices = yf.download(symbol, start=start, end=end)['Adj Close']\n",
    "\n",
    "# Check Type of Data for these two.    \n",
    "prices.XOM.head()\n",
    "prices.loc[:, 'XOM'].head()"
   ]
  },
  {
   "cell_type": "code",
   "execution_count": 160,
   "metadata": {},
   "outputs": [
    {
     "name": "stdout",
     "output_type": "stream",
     "text": [
      "<class 'pandas.core.series.Series'>\n",
      "<class 'pandas.core.series.Series'>\n"
     ]
    }
   ],
   "source": [
    "print(type(prices.XOM))\n",
    "print(type(prices.loc[:, 'XOM']))"
   ]
  },
  {
   "cell_type": "code",
   "execution_count": 161,
   "metadata": {},
   "outputs": [
    {
     "name": "stdout",
     "output_type": "stream",
     "text": [
      "                   BP        COP        XOM\n",
      "Date                                       \n",
      "2013-01-02  22.769684  41.145641  56.679356\n",
      "2013-01-03  23.225935  41.117840  56.577122\n",
      "2013-01-04  23.435268  41.576481  56.839073\n",
      "2013-01-07  23.295710  41.117840  56.180973\n",
      "2013-01-08  23.295710  40.561909  56.532394\n",
      "2013-01-09  23.762693  40.478519  56.315140\n",
      "2013-01-10  24.159908  40.652256  56.928520\n"
     ]
    }
   ],
   "source": [
    "print(prices.loc['2013-01-01':'2013-01-10'])"
   ]
  },
  {
   "cell_type": "markdown",
   "metadata": {},
   "source": [
    "#### Exercise 7: Boolean Indexing"
   ]
  },
  {
   "cell_type": "code",
   "execution_count": 162,
   "metadata": {},
   "outputs": [
    {
     "name": "stdout",
     "output_type": "stream",
     "text": [
      "                   BP        COP        XOM\n",
      "Date                                       \n",
      "2014-06-18  30.423717  62.259895  68.367447\n",
      "2014-06-19  30.423717  62.651604  68.300903\n",
      "2014-06-20  30.487247  63.087650  69.099487\n",
      "2014-06-23  30.654766  63.634560  69.465546\n",
      "2014-06-24  30.521908  62.673767  68.367447\n",
      "2014-06-25  30.394825  63.279835  67.974823\n",
      "2014-06-26  30.469921  63.531090  67.901596\n",
      "2014-06-27  30.383287  63.560661  67.355865\n",
      "2014-06-30  30.469921  63.361115  67.003159\n",
      "2014-07-01  30.614332  63.641945  67.455704\n",
      "2014-07-02  30.833838  63.457176  67.595467\n",
      "2014-07-03  30.700979  63.856277  68.274284\n",
      "2014-07-07  30.394825  63.634560  68.314201\n",
      "2014-07-08  30.256199  63.590221  68.434013\n",
      "2014-07-09  30.221544  63.412846  68.913147\n",
      "2014-07-16  30.198435  64.070625  69.059578\n",
      "                   BP        COP        XOM\n",
      "Date                                       \n",
      "2012-01-03  22.621035  37.561558  53.588898\n",
      "2012-01-04  22.933653  37.384312  53.601326\n",
      "2012-01-05  22.677416  37.085518  53.439335\n",
      "2012-01-06  22.590288  36.796864  53.040516\n",
      "2012-01-09  22.585165  36.938663  53.277294\n",
      "...               ...        ...        ...\n",
      "2015-12-24  20.262234  38.406490  55.383041\n",
      "2015-12-28  20.003592  37.299900  54.971146\n",
      "2015-12-29  20.104521  37.758335  55.264366\n",
      "2015-12-30  19.751261  36.833557  54.531315\n",
      "2015-12-31  19.719723  36.904701  54.419628\n",
      "\n",
      "[1006 rows x 3 columns]\n",
      "                   BP        COP        XOM\n",
      "Date                                       \n",
      "2014-06-18  30.423717  62.259895  68.367447\n",
      "2014-06-19  30.423717  62.651604  68.300903\n",
      "2014-06-20  30.487247  63.087650  69.099487\n",
      "2014-06-23  30.654766  63.634560  69.465546\n",
      "2014-06-24  30.521908  62.673767  68.367447\n",
      "2014-06-25  30.394825  63.279835  67.974823\n",
      "2014-06-26  30.469921  63.531090  67.901596\n",
      "2014-06-27  30.383287  63.560661  67.355865\n",
      "2014-06-30  30.469921  63.361115  67.003159\n",
      "2014-07-01  30.614332  63.641945  67.455704\n",
      "2014-07-02  30.833838  63.457176  67.595467\n",
      "2014-07-03  30.700979  63.856277  68.274284\n",
      "2014-07-07  30.394825  63.634560  68.314201\n",
      "2014-07-08  30.256199  63.590221  68.434013\n",
      "2014-07-09  30.221544  63.412846  68.913147\n",
      "2014-07-16  30.198435  64.070625  69.059578\n",
      "                   BP        COP        XOM\n",
      "Date                                       \n",
      "2012-01-03  22.621035  37.561558  53.588898\n",
      "2012-01-04  22.933653  37.384312  53.601326\n",
      "2012-01-05  22.677416  37.085518  53.439335\n",
      "2012-01-06  22.590288  36.796864  53.040516\n",
      "2012-01-09  22.585165  36.938663  53.277294\n",
      "...               ...        ...        ...\n",
      "2015-12-24  20.262234  38.406490  55.383041\n",
      "2015-12-28  20.003592  37.299900  54.971146\n",
      "2015-12-29  20.104521  37.758335  55.264366\n",
      "2015-12-30  19.751261  36.833557  54.531315\n",
      "2015-12-31  19.719723  36.904701  54.419628\n",
      "\n",
      "[1006 rows x 3 columns]\n"
     ]
    }
   ],
   "source": [
    "# Filter the data for prices to only print out values where\n",
    "# BP > 30\n",
    "\n",
    "# XOM < 100\n",
    "\n",
    "# BP > 30 AND XOM < 100\n",
    "\n",
    "# The union of (BP > 30 AND XOM < 100) with TOT being non-nan\n",
    "\n",
    "print(prices.loc[prices.BP > 30])\n",
    "print(prices.loc[prices.XOM < 100])\n",
    "print(prices.loc[(prices.BP > 30) & (prices.XOM < 100)])\n",
    "print(prices.loc[((prices.BP > 30) & (prices.XOM < 100)) | ~prices.COP.isnull()])"
   ]
  },
  {
   "cell_type": "code",
   "execution_count": 163,
   "metadata": {},
   "outputs": [
    {
     "name": "stdout",
     "output_type": "stream",
     "text": [
      "[*********************100%***********************]  1 of 1 completed\n"
     ]
    }
   ],
   "source": [
    "# Add a column for TSLA and drop the column for XOM\n",
    "\n",
    "tesla = yf.download('TSLA', start=start, end=end)['Adj Close']\n",
    "prices.loc[:, 'TSLA'] = tesla\n",
    "prices = prices.drop('XOM', axis=1)"
   ]
  },
  {
   "cell_type": "markdown",
   "metadata": {},
   "source": [
    "- Concatenate these DataFrames.\n",
    "- Fill the missing data with 0s"
   ]
  },
  {
   "cell_type": "code",
   "execution_count": 164,
   "metadata": {},
   "outputs": [
    {
     "name": "stdout",
     "output_type": "stream",
     "text": [
      "[*********************100%***********************]  2 of 2 completed"
     ]
    },
    {
     "name": "stderr",
     "output_type": "stream",
     "text": [
      "\n",
      "1 Failed download:\n",
      "['VXX']: Exception(\"%ticker%: Data doesn't exist for startDate = 1325394000, endDate = 1451624400\")\n"
     ]
    },
    {
     "name": "stdout",
     "output_type": "stream",
     "text": [
      "\n",
      "[*********************100%***********************]  3 of 3 completed\n"
     ]
    }
   ],
   "source": [
    "# Concatenate these dataframes\n",
    "df_1 = yf.download(['SPY', 'VXX'], start=start, end=end)['Adj Close']\n",
    "df_2 = yf.download(['MSFT', 'AAPL', 'GOOG'], start=start, end=end)['Adj Close']\n",
    "\n",
    "concat_df = pd.concat([df_1, df_2], axis=1)"
   ]
  },
  {
   "cell_type": "code",
   "execution_count": 165,
   "metadata": {},
   "outputs": [],
   "source": [
    "# Fill GOOG missing data with 0\n",
    "\n",
    "concat_df.GOOG.fillna(0, inplace=True)"
   ]
  },
  {
   "cell_type": "markdown",
   "metadata": {},
   "source": [
    "#### Exercise 8: Time Series Analysis"
   ]
  },
  {
   "cell_type": "markdown",
   "metadata": {},
   "source": [
    "- Print out a summary of the prices DataFrame from above.\n",
    "- Take the log returns and print the first 10 values.\n",
    "- Print the multiplicative returns of each company.\n",
    "- Normalize and plot the returns from 2014 to 2015.\n",
    "- Plot a 60 day window rolling mean of the prices.\n",
    "- Plot a 60 day window rolling standfard deviation of the prices."
   ]
  },
  {
   "cell_type": "code",
   "execution_count": 166,
   "metadata": {},
   "outputs": [
    {
     "name": "stdout",
     "output_type": "stream",
     "text": [
      "                BP          COP         TSLA\n",
      "count  1006.000000  1006.000000  1006.000000\n",
      "mean     24.011132    45.989242     9.831080\n",
      "std       2.598629     7.413656     5.978479\n",
      "min      18.235071    32.902836     1.519333\n",
      "25%      22.311869    39.461544     2.339000\n",
      "50%      23.567366    45.398788    11.876667\n",
      "75%      25.738363    51.018872    15.140499\n",
      "max      30.833838    64.666893    19.069332\n"
     ]
    }
   ],
   "source": [
    "# Print a summary of the 'prices' times series.\n",
    "print(prices.describe())"
   ]
  },
  {
   "cell_type": "code",
   "execution_count": 171,
   "metadata": {},
   "outputs": [
    {
     "data": {
      "text/html": [
       "<div>\n",
       "<style scoped>\n",
       "    .dataframe tbody tr th:only-of-type {\n",
       "        vertical-align: middle;\n",
       "    }\n",
       "\n",
       "    .dataframe tbody tr th {\n",
       "        vertical-align: top;\n",
       "    }\n",
       "\n",
       "    .dataframe thead th {\n",
       "        text-align: right;\n",
       "    }\n",
       "</style>\n",
       "<table border=\"1\" class=\"dataframe\">\n",
       "  <thead>\n",
       "    <tr style=\"text-align: right;\">\n",
       "      <th></th>\n",
       "      <th>BP</th>\n",
       "      <th>COP</th>\n",
       "      <th>TSLA</th>\n",
       "    </tr>\n",
       "    <tr>\n",
       "      <th>Date</th>\n",
       "      <th></th>\n",
       "      <th></th>\n",
       "      <th></th>\n",
       "    </tr>\n",
       "  </thead>\n",
       "  <tbody>\n",
       "    <tr>\n",
       "      <th>2012-01-03</th>\n",
       "      <td>3.118880</td>\n",
       "      <td>3.625981</td>\n",
       "      <td>0.627007</td>\n",
       "    </tr>\n",
       "    <tr>\n",
       "      <th>2012-01-04</th>\n",
       "      <td>3.132605</td>\n",
       "      <td>3.621251</td>\n",
       "      <td>0.613743</td>\n",
       "    </tr>\n",
       "    <tr>\n",
       "      <th>2012-01-05</th>\n",
       "      <td>3.121370</td>\n",
       "      <td>3.613227</td>\n",
       "      <td>0.592221</td>\n",
       "    </tr>\n",
       "    <tr>\n",
       "      <th>2012-01-06</th>\n",
       "      <td>3.117520</td>\n",
       "      <td>3.605413</td>\n",
       "      <td>0.584448</td>\n",
       "    </tr>\n",
       "    <tr>\n",
       "      <th>2012-01-09</th>\n",
       "      <td>3.117293</td>\n",
       "      <td>3.609259</td>\n",
       "      <td>0.597003</td>\n",
       "    </tr>\n",
       "    <tr>\n",
       "      <th>...</th>\n",
       "      <td>...</td>\n",
       "      <td>...</td>\n",
       "      <td>...</td>\n",
       "    </tr>\n",
       "    <tr>\n",
       "      <th>2015-12-24</th>\n",
       "      <td>3.008759</td>\n",
       "      <td>3.648226</td>\n",
       "      <td>2.732504</td>\n",
       "    </tr>\n",
       "    <tr>\n",
       "      <th>2015-12-28</th>\n",
       "      <td>2.995912</td>\n",
       "      <td>3.618991</td>\n",
       "      <td>2.725453</td>\n",
       "    </tr>\n",
       "    <tr>\n",
       "      <th>2015-12-29</th>\n",
       "      <td>3.000945</td>\n",
       "      <td>3.631206</td>\n",
       "      <td>2.760811</td>\n",
       "    </tr>\n",
       "    <tr>\n",
       "      <th>2015-12-30</th>\n",
       "      <td>2.983217</td>\n",
       "      <td>3.606409</td>\n",
       "      <td>2.764599</td>\n",
       "    </tr>\n",
       "    <tr>\n",
       "      <th>2015-12-31</th>\n",
       "      <td>2.981619</td>\n",
       "      <td>3.608339</td>\n",
       "      <td>2.772630</td>\n",
       "    </tr>\n",
       "  </tbody>\n",
       "</table>\n",
       "<p>1006 rows × 3 columns</p>\n",
       "</div>"
      ],
      "text/plain": [
       "                  BP       COP      TSLA\n",
       "Date                                    \n",
       "2012-01-03  3.118880  3.625981  0.627007\n",
       "2012-01-04  3.132605  3.621251  0.613743\n",
       "2012-01-05  3.121370  3.613227  0.592221\n",
       "2012-01-06  3.117520  3.605413  0.584448\n",
       "2012-01-09  3.117293  3.609259  0.597003\n",
       "...              ...       ...       ...\n",
       "2015-12-24  3.008759  3.648226  2.732504\n",
       "2015-12-28  2.995912  3.618991  2.725453\n",
       "2015-12-29  3.000945  3.631206  2.760811\n",
       "2015-12-30  2.983217  3.606409  2.764599\n",
       "2015-12-31  2.981619  3.608339  2.772630\n",
       "\n",
       "[1006 rows x 3 columns]"
      ]
     },
     "execution_count": 171,
     "metadata": {},
     "output_type": "execute_result"
    }
   ],
   "source": [
    "# Print the natural log returns of the first 10 values\n",
    "np.log(prices)"
   ]
  },
  {
   "cell_type": "code",
   "execution_count": 168,
   "metadata": {},
   "outputs": [
    {
     "name": "stdout",
     "output_type": "stream",
     "text": [
      "                  BP       COP      TSLA\n",
      "Date                                    \n",
      "2012-01-04  0.013820 -0.004719 -0.013177\n",
      "2012-01-05 -0.011173 -0.007992 -0.021292\n",
      "2012-01-06 -0.003842 -0.007783 -0.007743\n",
      "2012-01-09 -0.000227  0.003854  0.012635\n",
      "2012-01-10  0.007261  0.004661  0.013578\n",
      "...              ...       ...       ...\n",
      "2015-12-24 -0.007110 -0.008974  0.003788\n",
      "2015-12-28 -0.012765 -0.028813 -0.007026\n",
      "2015-12-29  0.005046  0.012291  0.035990\n",
      "2015-12-30 -0.017571 -0.024492  0.003794\n",
      "2015-12-31 -0.001597  0.001932  0.008064\n",
      "\n",
      "[1005 rows x 3 columns]\n"
     ]
    }
   ],
   "source": [
    "# Print the Muliplicative returns \n",
    "print(prices.pct_change()[1:])"
   ]
  },
  {
   "cell_type": "code",
   "execution_count": 169,
   "metadata": {},
   "outputs": [
    {
     "data": {
      "image/png": "[encoded data removed]",
      "text/plain": [
       "<Figure size 640x480 with 1 Axes>"
      ]
     },
     "metadata": {},
     "output_type": "display_data"
    }
   ],
   "source": [
    "# Normlalize the returns and plot \n",
    "mu_returns = prices.pct_change()[1:]\n",
    "norm_returns = (mu_returns - mu_returns.mean(axis=0))/mu_returns.std(axis=0)\n",
    "norm_returns.loc['2014-01-01':'2015-01-01'].plot();"
   ]
  },
  {
   "cell_type": "code",
   "execution_count": 170,
   "metadata": {},
   "outputs": [
    {
     "data": {
      "image/png": "[encoded data removed]",
      "text/plain": [
       "<Figure size 640x480 with 1 Axes>"
      ]
     },
     "metadata": {},
     "output_type": "display_data"
    },
    {
     "data": {
      "image/png": "[encoded data removed]",
      "text/plain": [
       "<Figure size 640x480 with 1 Axes>"
      ]
     },
     "metadata": {},
     "output_type": "display_data"
    }
   ],
   "source": [
    "# Rolling mean\n",
    "roll_means = prices.rolling(60).mean()\n",
    "\n",
    "# Rolling standard deviation\n",
    "roll_std = prices.rolling(60).std()\n",
    "\n",
    "# Plotting \n",
    "roll_means.plot()\n",
    "roll_std.plot();"
   ]
  },
  {
   "cell_type": "code",
   "execution_count": null,
   "metadata": {},
   "outputs": [],
   "source": []
  }
 ],
 "metadata": {
  "kernelspec": {
   "display_name": "Python 3",
   "language": "python",
   "name": "python3"
  },
  "language_info": {
   "codemirror_mode": {
    "name": "ipython",
    "version": 3
   },
   "file_extension": ".py",
   "mimetype": "text/x-python",
   "name": "python",
   "nbconvert_exporter": "python",
   "pygments_lexer": "ipython3",
   "version": "3.11.1"
  },
  "orig_nbformat": 4
 },
 "nbformat": 4,
 "nbformat_minor": 2
}
