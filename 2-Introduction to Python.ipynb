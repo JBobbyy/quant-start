{
 "cells": [
  {
   "cell_type": "code",
   "execution_count": 1,
   "id": "133e6e33-6243-4696-9645-68caaadac3c9",
   "metadata": {},
   "outputs": [
    {
     "data": {
      "text/plain": [
       "' doc comment '"
      ]
     },
     "execution_count": 1,
     "metadata": {},
     "output_type": "execute_result"
    }
   ],
   "source": [
    "# Normal comment\n",
    "\"\"\" doc comment \"\"\" # docstring"
   ]
  },
  {
   "cell_type": "code",
   "execution_count": 46,
   "id": "fe79afc0-9c6f-4ae7-b64e-492f5a4bf19b",
   "metadata": {},
   "outputs": [
    {
     "name": "stdout",
     "output_type": "stream",
     "text": [
      "1.0\n"
     ]
    },
    {
     "data": {
      "text/plain": [
       "float"
      ]
     },
     "execution_count": 46,
     "metadata": {},
     "output_type": "execute_result"
    }
   ],
   "source": [
    "my_float = 1.0\n",
    "print(my_float)\n",
    "type(my_float)"
   ]
  },
  {
   "cell_type": "code",
   "execution_count": 47,
   "id": "d1231e9b-0b7b-4bca-8643-68bc875898e1",
   "metadata": {},
   "outputs": [
    {
     "name": "stdout",
     "output_type": "stream",
     "text": [
      "1\n"
     ]
    },
    {
     "data": {
      "text/plain": [
       "int"
      ]
     },
     "execution_count": 47,
     "metadata": {},
     "output_type": "execute_result"
    }
   ],
   "source": [
    "my_float = 1\n",
    "print(my_float)\n",
    "type(my_float)"
   ]
  },
  {
   "cell_type": "code",
   "execution_count": 48,
   "id": "3ef8e158-63d8-426c-8060-a3adcd6f8c93",
   "metadata": {},
   "outputs": [
    {
     "name": "stdout",
     "output_type": "stream",
     "text": [
      "3\n"
     ]
    },
    {
     "data": {
      "text/plain": [
       "int"
      ]
     },
     "execution_count": 48,
     "metadata": {},
     "output_type": "execute_result"
    }
   ],
   "source": [
    "my_int = int(3.14159)\n",
    "print(my_int)\n",
    "type(my_int)"
   ]
  },
  {
   "cell_type": "code",
   "execution_count": 49,
   "id": "f2f8a6e3-9c97-4454-a5c3-1bb39ac33726",
   "metadata": {},
   "outputs": [
    {
     "name": "stdout",
     "output_type": "stream",
     "text": [
      "This is a string\n"
     ]
    }
   ],
   "source": [
    "my_string = 'This is a string'\n",
    "print(my_string)"
   ]
  },
  {
   "cell_type": "code",
   "execution_count": 50,
   "id": "1d84c5e6-e2aa-4640-91a9-833aed05abc5",
   "metadata": {},
   "outputs": [
    {
     "name": "stdout",
     "output_type": "stream",
     "text": [
      "\"Jabberwocky\", by Lewis Carroll\n"
     ]
    }
   ],
   "source": [
    "my_string = '\"Jabberwocky\", by Lewis Carroll'\n",
    "print(my_string)"
   ]
  },
  {
   "cell_type": "code",
   "execution_count": 51,
   "id": "f581a926-8ae5-4183-a606-e895aa467f63",
   "metadata": {},
   "outputs": [
    {
     "name": "stdout",
     "output_type": "stream",
     "text": [
      "'Twas brillig, and the slithy toves / Did gyre and gimble in the wabe;\n"
     ]
    }
   ],
   "source": [
    "my_string = \"'Twas brillig, and the slithy toves / Did gyre and gimble in the wabe;\"\n",
    "print(my_string)"
   ]
  },
  {
   "cell_type": "code",
   "execution_count": 52,
   "id": "1a712f0f-0d03-403d-895d-3c63283857ee",
   "metadata": {},
   "outputs": [
    {
     "name": "stdout",
     "output_type": "stream",
     "text": [
      "True\n"
     ]
    },
    {
     "data": {
      "text/plain": [
       "bool"
      ]
     },
     "execution_count": 52,
     "metadata": {},
     "output_type": "execute_result"
    }
   ],
   "source": [
    "my_bool = True\n",
    "print(my_bool)\n",
    "type(my_bool)"
   ]
  },
  {
   "cell_type": "markdown",
   "id": "193d4a76-d29a-4213-8b9a-168993653b8d",
   "metadata": {},
   "source": [
    "## Basic Math"
   ]
  },
  {
   "cell_type": "code",
   "execution_count": 53,
   "id": "2b7ae700-00c3-4ba3-a647-da805077466f",
   "metadata": {},
   "outputs": [
    {
     "name": "stdout",
     "output_type": "stream",
     "text": [
      "Addition: 4\n",
      "Subtraction: 3\n",
      "Multiplication: 10\n",
      "Division: 5.0\n",
      "Exponentiation: 9\n"
     ]
    }
   ],
   "source": [
    "print(\"Addition:\", 2+2)\n",
    "print(\"Subtraction:\", 7-4)\n",
    "print(\"Multiplication:\", 2*5)\n",
    "print(\"Division:\", 10/2)\n",
    "print(\"Exponentiation:\", 3**2)"
   ]
  },
  {
   "cell_type": "code",
   "execution_count": 54,
   "id": "7b06d12d-dcaa-44cd-a8e6-aa454fe8a70a",
   "metadata": {},
   "outputs": [
    {
     "name": "stdout",
     "output_type": "stream",
     "text": [
      "Modulo: 3\n"
     ]
    }
   ],
   "source": [
    "# The modulo operates as a remainder\n",
    "print(\"Modulo:\", 15%4)"
   ]
  },
  {
   "cell_type": "code",
   "execution_count": 55,
   "id": "56b8de6d-2bbd-457c-8fb9-b7ced78e2247",
   "metadata": {},
   "outputs": [
    {
     "name": "stdout",
     "output_type": "stream",
     "text": [
      "20.0\n"
     ]
    }
   ],
   "source": [
    "first_integer = 4.0\n",
    "second_integer = 5.0\n",
    "print(first_integer * second_integer)"
   ]
  },
  {
   "cell_type": "code",
   "execution_count": 56,
   "id": "121443c9-7fd8-4a67-9f34-aa24097fdb81",
   "metadata": {},
   "outputs": [
    {
     "name": "stdout",
     "output_type": "stream",
     "text": [
      "3.6666666666666665\n"
     ]
    }
   ],
   "source": [
    "first_integer = 11\n",
    "second_integer = 3\n",
    "print(first_integer / second_integer)"
   ]
  },
  {
   "cell_type": "code",
   "execution_count": 57,
   "id": "fb6f3fcd-6340-4f2e-b9c5-08264ef91ed1",
   "metadata": {},
   "outputs": [
    {
     "name": "stdout",
     "output_type": "stream",
     "text": [
      "3.6666666666666665\n"
     ]
    }
   ],
   "source": [
    "first_integer = 11.0\n",
    "second_integer = 3.0\n",
    "print(first_integer / second_integer)"
   ]
  },
  {
   "cell_type": "markdown",
   "id": "8f3d0d25-db16-41e3-a048-2dbbb73b8b07",
   "metadata": {},
   "source": [
    "Python has a few built-in functions. The most notable of these are:\n",
    "\n",
    "- `abs()`\n",
    "- `round()`\n",
    "- `max()`\n",
    "- `min()`\n",
    "- `sum()`"
   ]
  },
  {
   "cell_type": "markdown",
   "id": "61ad1f47-dc6a-481a-b031-a7e00bfcdd78",
   "metadata": {},
   "source": [
    "Additional math functionality can be added in with the  `math` package."
   ]
  },
  {
   "cell_type": "code",
   "execution_count": 58,
   "id": "4b655d48-8f15-4b86-8bcd-92103119aa85",
   "metadata": {},
   "outputs": [],
   "source": [
    "import math"
   ]
  },
  {
   "cell_type": "code",
   "execution_count": 59,
   "id": "95465870-13be-42dc-9afb-af7941f513fb",
   "metadata": {},
   "outputs": [
    {
     "name": "stdout",
     "output_type": "stream",
     "text": [
      "Pi: 3.141592653589793\n",
      "Euler's Constant: 2.718281828459045\n"
     ]
    }
   ],
   "source": [
    "print('Pi:', math.pi)\n",
    "print(\"Euler's Constant:\", math.e)"
   ]
  },
  {
   "cell_type": "code",
   "execution_count": 60,
   "id": "873479ad-4460-4a08-aced-0a90910f0406",
   "metadata": {},
   "outputs": [
    {
     "name": "stdout",
     "output_type": "stream",
     "text": [
      "Cosine of pi: -1.0\n"
     ]
    }
   ],
   "source": [
    "print('Cosine of pi:', math.cos(math.pi))"
   ]
  },
  {
   "cell_type": "markdown",
   "id": "0e656a09-4877-4d61-8370-a4c1b3ba75b4",
   "metadata": {},
   "source": [
    "## Collections"
   ]
  },
  {
   "cell_type": "markdown",
   "id": "3633a12e-5079-415d-b8c1-28e446b33464",
   "metadata": {},
   "source": [
    "### Lists"
   ]
  },
  {
   "cell_type": "markdown",
   "id": "3c74271a-db97-44f5-a7b6-4abe81d7f8f9",
   "metadata": {},
   "source": [
    "List -> ordered collection of objects that can contain any data type."
   ]
  },
  {
   "cell_type": "code",
   "execution_count": 61,
   "id": "091af650-9fb1-461f-a55f-ec2aaaf56539",
   "metadata": {},
   "outputs": [
    {
     "name": "stdout",
     "output_type": "stream",
     "text": [
      "[1, 2, 3]\n"
     ]
    }
   ],
   "source": [
    "my_list = [1, 2, 3]\n",
    "print(my_list)"
   ]
  },
  {
   "cell_type": "code",
   "execution_count": 62,
   "id": "fa1f548d-a563-4702-abd6-4994f3937a40",
   "metadata": {},
   "outputs": [
    {
     "name": "stdout",
     "output_type": "stream",
     "text": [
      "2\n",
      "3\n"
     ]
    }
   ],
   "source": [
    "print(my_list[1])\n",
    "print(my_list[2])"
   ]
  },
  {
   "cell_type": "code",
   "execution_count": 63,
   "id": "046e369c-0b2f-46b4-846e-1cb0529ffa68",
   "metadata": {},
   "outputs": [
    {
     "name": "stdout",
     "output_type": "stream",
     "text": [
      "The first, second, and third list elements:  1 2 3\n"
     ]
    }
   ],
   "source": [
    "print('The first, second, and third list elements: ', my_list[0], my_list[1], my_list[2])"
   ]
  },
  {
   "cell_type": "code",
   "execution_count": 64,
   "id": "5d862798-2b2e-4521-98c4-b1d28751f20e",
   "metadata": {},
   "outputs": [
    {
     "name": "stdout",
     "output_type": "stream",
     "text": [
      "3\n"
     ]
    }
   ],
   "source": [
    "print(len(my_list))"
   ]
  },
  {
   "cell_type": "code",
   "execution_count": 65,
   "id": "09f9c965-4498-4088-99d0-ee196eeb0ea8",
   "metadata": {},
   "outputs": [
    {
     "name": "stdout",
     "output_type": "stream",
     "text": [
      "[1, 2, 3]\n",
      "[42, 2, 3]\n"
     ]
    }
   ],
   "source": [
    "print(my_list)\n",
    "my_list[0] = 42\n",
    "print(my_list)"
   ]
  },
  {
   "cell_type": "markdown",
   "id": "d8a7c472-e0fb-4ca7-9557-b53aae7ecbca",
   "metadata": {},
   "source": [
    "This is fundamentally different from how strings are handled. A `list` is mutable, meaning that you can change a `list`'s elements without changing the list itself. Some data types, like `strings`, are immutable, meaning you cannot change them at all. Once a `string` or other immutable data type has been created, it cannot be directly modified without creating an entirely new object."
   ]
  },
  {
   "cell_type": "code",
   "execution_count": 66,
   "id": "3353ecb3-2695-4310-ba8c-1749e280e7f5",
   "metadata": {},
   "outputs": [],
   "source": [
    "my_string = \"String's never change\"\n",
    "my_string[0] = 'Z'"
   ]
  },
  {
   "cell_type": "code",
   "execution_count": 67,
   "id": "70108973-4ab9-4e91-978e-0c3b5038a2c5",
   "metadata": {},
   "outputs": [
    {
     "name": "stdout",
     "output_type": "stream",
     "text": [
      "['one', 'two', 'three']\n"
     ]
    }
   ],
   "source": [
    "my_list_2 = ['one', 'two', 'three']\n",
    "print(my_list_2)"
   ]
  },
  {
   "cell_type": "markdown",
   "id": "e0482ae5-ae9f-4559-b0f1-e6b6db61b2ae",
   "metadata": {},
   "source": [
    "Lists can also contain multiple different data types at once."
   ]
  },
  {
   "cell_type": "code",
   "execution_count": 68,
   "id": "5a8103c1-4269-49f6-9d02-3b635ab64952",
   "metadata": {},
   "outputs": [],
   "source": [
    "my_list_3 = [True, 'False', 42]"
   ]
  },
  {
   "cell_type": "code",
   "execution_count": 69,
   "id": "c60d586d-e3e2-4d35-8db0-2d0750d37323",
   "metadata": {},
   "outputs": [
    {
     "name": "stdout",
     "output_type": "stream",
     "text": [
      "[42, 2, 3, 'one', 'two', 'three', True, 'False', 42]\n"
     ]
    }
   ],
   "source": [
    "my_list_4 = my_list + my_list_2 + my_list_3\n",
    "print(my_list_4)"
   ]
  },
  {
   "cell_type": "markdown",
   "id": "d0db13c0-ed5b-4ac0-8a00-6c0ced4140ab",
   "metadata": {},
   "source": [
    "In addition to accessing individual elements of a list, we can access groups of elements through slicing."
   ]
  },
  {
   "cell_type": "code",
   "execution_count": 70,
   "id": "9cb55d93-c886-461c-82e4-0c55b654dd01",
   "metadata": {},
   "outputs": [],
   "source": [
    "my_list = ['friends', 'romans', 'countrymen', 'lend', 'me', 'your', 'ears']"
   ]
  },
  {
   "cell_type": "markdown",
   "id": "8bba41c2-af6d-4c4d-8b86-9b806505f07f",
   "metadata": {},
   "source": [
    "### Slicing"
   ]
  },
  {
   "cell_type": "code",
   "execution_count": 71,
   "id": "50a5ab4c-f24a-4aa4-a2bb-669a7c29e391",
   "metadata": {},
   "outputs": [
    {
     "name": "stdout",
     "output_type": "stream",
     "text": [
      "['countrymen', 'lend']\n"
     ]
    }
   ],
   "source": [
    "print(my_list[2:4])"
   ]
  },
  {
   "cell_type": "code",
   "execution_count": 72,
   "id": "abbbe386-18c6-45a5-96da-77da0c6244f5",
   "metadata": {},
   "outputs": [
    {
     "name": "stdout",
     "output_type": "stream",
     "text": [
      "['friends', 'romans', 'countrymen', 'lend']\n"
     ]
    }
   ],
   "source": [
    "print(my_list[:4])"
   ]
  },
  {
   "cell_type": "code",
   "execution_count": 73,
   "id": "73bfdc0d-85ad-4683-9eef-4b3546829ad8",
   "metadata": {},
   "outputs": [
    {
     "name": "stdout",
     "output_type": "stream",
     "text": [
      "your\n"
     ]
    }
   ],
   "source": [
    "print(my_list[-2])"
   ]
  },
  {
   "cell_type": "markdown",
   "id": "433a4ed3-afda-43b1-868e-32eff1f29dea",
   "metadata": {},
   "source": [
    "You can also add a third component to slicing. Instead of simply indicating the first and final parts of your slice, you can specify the step size that you want to take. So instead of taking every single element, you can take every other element."
   ]
  },
  {
   "cell_type": "code",
   "execution_count": 74,
   "id": "7b278884-c97f-469a-8e9a-7d8de1279632",
   "metadata": {},
   "outputs": [
    {
     "name": "stdout",
     "output_type": "stream",
     "text": [
      "['friends', 'countrymen', 'me', 'ears']\n"
     ]
    }
   ],
   "source": [
    "print(my_list[0:7:2])"
   ]
  },
  {
   "cell_type": "code",
   "execution_count": 75,
   "id": "0df976d3-02c3-492b-823f-ed499ef77acc",
   "metadata": {},
   "outputs": [
    {
     "name": "stdout",
     "output_type": "stream",
     "text": [
      "['friends', 'countrymen', 'me', 'ears']\n"
     ]
    }
   ],
   "source": [
    "print(my_list[::2])"
   ]
  },
  {
   "cell_type": "code",
   "execution_count": 76,
   "id": "e90f097f-9830-4971-9103-f49c3464ddd8",
   "metadata": {},
   "outputs": [
    {
     "name": "stdout",
     "output_type": "stream",
     "text": [
      "['friends', 'romans', 'countrymen', 'lend', 'me', 'your', 'ears']\n"
     ]
    }
   ],
   "source": [
    "print(my_list[:])"
   ]
  },
  {
   "cell_type": "markdown",
   "id": "f4705d41-ab9f-45ac-981a-edf2bac7dec9",
   "metadata": {},
   "source": [
    "With a negative step size we can even reverse the list."
   ]
  },
  {
   "cell_type": "code",
   "execution_count": 77,
   "id": "8ca0445f-683d-46f5-9f5d-05f14c81cc7e",
   "metadata": {},
   "outputs": [
    {
     "name": "stdout",
     "output_type": "stream",
     "text": [
      "['ears', 'your', 'me', 'lend', 'countrymen', 'romans', 'friends']\n"
     ]
    }
   ],
   "source": [
    "print(my_list[::-1])"
   ]
  },
  {
   "cell_type": "markdown",
   "id": "889870c7-8bdb-4460-9240-811383a0dc0a",
   "metadata": {},
   "source": [
    "Python does not have native matrices, but with lists we can produce a working fascimile. Other packages, such as numpy, add matrices as a separate data type, but in base Python the best way to create a matrix is to use a list of lists.\n",
    "\n",
    "We can also use built-in functions to generate lists. In particular we will look at range() (because we will be using it later!). Range can take several different inputs and will return a list."
   ]
  },
  {
   "cell_type": "code",
   "execution_count": 78,
   "id": "5c7bb850-396d-478a-93a6-fc5419522027",
   "metadata": {},
   "outputs": [
    {
     "name": "stdout",
     "output_type": "stream",
     "text": [
      "range(0, 10)\n"
     ]
    }
   ],
   "source": [
    "b = 10\n",
    "my_list = range(b)\n",
    "print(my_list)"
   ]
  },
  {
   "cell_type": "code",
   "execution_count": 79,
   "id": "12f98c59-f5cd-47b6-9045-0911e9f3545d",
   "metadata": {},
   "outputs": [
    {
     "name": "stdout",
     "output_type": "stream",
     "text": [
      "range(2, 10)\n"
     ]
    }
   ],
   "source": [
    "a = 2\n",
    "b = 10\n",
    "my_list = range(a, b)\n",
    "print(my_list)"
   ]
  },
  {
   "cell_type": "code",
   "execution_count": 80,
   "id": "b11bf4c4-32a8-4267-a8ef-c9714ac04b0b",
   "metadata": {},
   "outputs": [
    {
     "name": "stdout",
     "output_type": "stream",
     "text": [
      "range(0, 10, 2)\n"
     ]
    }
   ],
   "source": [
    "a = 0\n",
    "b = 10\n",
    "step = 2\n",
    "my_list = range(a, b, step)\n",
    "print(my_list)"
   ]
  },
  {
   "cell_type": "markdown",
   "id": "2a6193be-7083-424c-a320-8f6256100903",
   "metadata": {},
   "source": [
    "### Tuples"
   ]
  },
  {
   "cell_type": "markdown",
   "id": "9150dd7e-f423-4f76-be54-874e510f66cc",
   "metadata": {},
   "source": [
    "A `tuple` is a data type similar to a list in that it can hold different kinds of data types. The key difference here is that a `tuple` is immutable. We define a `tuple` by separating the elements we want to include by commas. It is conventional to sorround a `tuple` with parentheses. "
   ]
  },
  {
   "cell_type": "code",
   "execution_count": 81,
   "id": "1b3d197a-d55c-46ec-b111-485e977aea70",
   "metadata": {},
   "outputs": [
    {
     "name": "stdout",
     "output_type": "stream",
     "text": [
      "('I', 'have', 30, 'cats')\n"
     ]
    }
   ],
   "source": [
    "my_tuple = 'I', 'have', 30, 'cats'\n",
    "print(my_tuple)"
   ]
  },
  {
   "cell_type": "code",
   "execution_count": 82,
   "id": "ed411a58-6746-4114-960e-3632150021eb",
   "metadata": {},
   "outputs": [
    {
     "name": "stdout",
     "output_type": "stream",
     "text": [
      "('I', 'have', 30, 'cats')\n"
     ]
    }
   ],
   "source": [
    "my_tuple = ('I', 'have', 30, 'cats')\n",
    "print(my_tuple)"
   ]
  },
  {
   "cell_type": "code",
   "execution_count": 83,
   "id": "ad7f8ef1-23b9-44b8-a6c9-25514088064e",
   "metadata": {},
   "outputs": [
    {
     "ename": "TypeError",
     "evalue": "'tuple' object does not support item assignment",
     "output_type": "error",
     "traceback": [
      "\u001b[1;31m---------------------------------------------------------------------------\u001b[0m",
      "\u001b[1;31mTypeError\u001b[0m                                 Traceback (most recent call last)",
      "Cell \u001b[1;32mIn[83], line 1\u001b[0m\n\u001b[1;32m----> 1\u001b[0m my_tuple[\u001b[39m3\u001b[39;49m] \u001b[39m=\u001b[39m \u001b[39m'\u001b[39m\u001b[39mdogs\u001b[39m\u001b[39m'\u001b[39m \u001b[39m# Attempts to change the 'cats' value stored in the tuple to 'dogs'\u001b[39;00m\n",
      "\u001b[1;31mTypeError\u001b[0m: 'tuple' object does not support item assignment"
     ]
    }
   ],
   "source": [
    "my_tuple[3] = 'dogs' # Attempts to change the 'cats' value stored in the tuple to 'dogs'"
   ]
  },
  {
   "cell_type": "code",
   "execution_count": 84,
   "id": "4bbce0e9-0828-4800-88b5-51090a0f5d58",
   "metadata": {},
   "outputs": [
    {
     "name": "stdout",
     "output_type": "stream",
     "text": [
      "('have', 30)\n"
     ]
    }
   ],
   "source": [
    "print(my_tuple[1:3])"
   ]
  },
  {
   "cell_type": "code",
   "execution_count": 85,
   "id": "718e41b6-955f-4413-9048-6682c862b177",
   "metadata": {},
   "outputs": [
    {
     "name": "stdout",
     "output_type": "stream",
     "text": [
      "('I', 'have', 30, 'cats', 'make', 'that', 50)\n"
     ]
    }
   ],
   "source": [
    "my_other_tuple = ('make', 'that', 50)\n",
    "print(my_tuple + my_other_tuple)"
   ]
  },
  {
   "cell_type": "code",
   "execution_count": 86,
   "id": "e611d8d9-d160-4266-b2b7-03a7d836cf79",
   "metadata": {},
   "outputs": [
    {
     "name": "stdout",
     "output_type": "stream",
     "text": [
      "make that 50\n"
     ]
    }
   ],
   "source": [
    "str_1, str_2, int_1 = my_other_tuple\n",
    "print(str_1, str_2, int_1)"
   ]
  },
  {
   "cell_type": "markdown",
   "id": "58d37fb2-2367-439b-a868-8f68cffc9b94",
   "metadata": {},
   "source": [
    "Unpacking assigns each value of the tuple in order to each variable on the left hand side of the equals sign. Some functions, including user-defined functions, may return tuples, so we can use this to directly unpack them and access the values that we want."
   ]
  },
  {
   "cell_type": "markdown",
   "id": "c8e29b36-e669-4da4-a645-8e19ab2d1ba6",
   "metadata": {},
   "source": [
    "### Sets"
   ]
  },
  {
   "cell_type": "markdown",
   "id": "6a1be846-5f09-4644-8bdb-cbddb98ef7f6",
   "metadata": {},
   "source": [
    "A `set` is a collection of unordered, unique elements. It works almost exactly as you would expect a normal set of things in mathematics to work and is defined using braces (`{}`)."
   ]
  },
  {
   "cell_type": "code",
   "execution_count": 87,
   "id": "3ab25d55-d2e5-4ddf-9ecd-1a50bfa8fdba",
   "metadata": {},
   "outputs": [
    {
     "name": "stdout",
     "output_type": "stream",
     "text": [
      "{'lizards', 4, 'man I just LOVE the number 4', 'the number 4', 7, 42, 'dogs'}\n"
     ]
    },
    {
     "data": {
      "text/plain": [
       "(None, set)"
      ]
     },
     "execution_count": 87,
     "metadata": {},
     "output_type": "execute_result"
    }
   ],
   "source": [
    "things_i_like = {'dogs', 7, 'the number 4', 4, 4, 4, 42, 'lizards', 'man I just LOVE the number 4'}\n",
    "print(things_i_like), type(things_i_like)"
   ]
  },
  {
   "cell_type": "code",
   "execution_count": 88,
   "id": "c65c6529-781c-441f-820d-eca5d54f6985",
   "metadata": {},
   "outputs": [
    {
     "name": "stdout",
     "output_type": "stream",
     "text": [
      "{'lizards', 'sponges', 'cows', 'dogs', 'bats', 'cats'}\n"
     ]
    }
   ],
   "source": [
    "animal_list = ['cats', 'dogs', 'dogs', 'dogs', 'lizards', 'sponges', 'cows', 'bats', 'sponges']\n",
    "animal_set = set(animal_list)\n",
    "print(animal_set) # Removes all extra instances from the list"
   ]
  },
  {
   "cell_type": "code",
   "execution_count": 89,
   "id": "c1dfa466-e0a8-4c5f-9202-2a5e3efb8d73",
   "metadata": {},
   "outputs": [
    {
     "name": "stdout",
     "output_type": "stream",
     "text": [
      "6\n"
     ]
    }
   ],
   "source": [
    "print(len(animal_set))"
   ]
  },
  {
   "cell_type": "code",
   "execution_count": 90,
   "id": "be94f399-fd3d-4105-9f69-5e2acc1b159c",
   "metadata": {},
   "outputs": [
    {
     "data": {
      "text/plain": [
       "True"
      ]
     },
     "execution_count": 90,
     "metadata": {},
     "output_type": "execute_result"
    }
   ],
   "source": [
    "'cats' in animal_set # Here we check for membership using the `in` keyword."
   ]
  },
  {
   "cell_type": "code",
   "execution_count": 91,
   "id": "016dae79-699a-4121-8c82-3a1a538aff50",
   "metadata": {},
   "outputs": [
    {
     "name": "stdout",
     "output_type": "stream",
     "text": [
      "{'lizards', 'sponges', 'cows', 4, 7, 42, 'dogs', 'bats', 'cats', 'man I just LOVE the number 4', 'the number 4'}\n"
     ]
    }
   ],
   "source": [
    "print(animal_set | things_i_like) # You can also write things_i_like | animal_set with no difference"
   ]
  },
  {
   "cell_type": "code",
   "execution_count": 92,
   "id": "ab5f1f26-99c5-4ce0-88f2-12f3b02f0fd7",
   "metadata": {},
   "outputs": [
    {
     "name": "stdout",
     "output_type": "stream",
     "text": [
      "{'lizards', 'dogs'}\n"
     ]
    }
   ],
   "source": [
    "print(animal_set & things_i_like)"
   ]
  },
  {
   "cell_type": "markdown",
   "id": "5a2203e9-080a-434b-b997-19fb2a763095",
   "metadata": {},
   "source": [
    "### Dictionaries"
   ]
  },
  {
   "cell_type": "markdown",
   "id": "0636bd8e-c137-4a85-aa5d-d46fc2508c1a",
   "metadata": {},
   "source": [
    "Another essential data structure in Python is the dictionary. Dictionaries are defined with a combination of curly braces (`{}`) and colons (`:`). The braces define the beginning and end of a dictionary and the colons indicate key-value pairs. A dictionary is essentially a set of key-value pairs. The key of any entry must be an immutable data type. This makes both strings and tuples candidates. Keys can be both added and deleted.\n",
    "\n",
    "In the following example, we have a dictionary composed of key-value pairs where the key is a genre of fiction (`string`) and the value is a list of books (`list`) within that genre. Since a collection is still considered a single entity, we can use one to collect multiple variables or values into one key-value pair."
   ]
  },
  {
   "cell_type": "code",
   "execution_count": 93,
   "id": "1dcfa2ed-dd7c-4b3f-a6e1-be4b28ec917a",
   "metadata": {},
   "outputs": [],
   "source": [
    "my_dict = {\"High Fantasy\": [\"Wheel of Time\", \"Lord of the Rings\"],\n",
    "           \"Sci-fi\": [\"Book of the New Sun\", \"Neuromancer\", \"Snow Crash\"],\n",
    "           \"Weird Fiction\": [\"At the Mountains of Madness\", \"The House on the Borderland\"]}"
   ]
  },
  {
   "cell_type": "code",
   "execution_count": 94,
   "id": "7be78a0d-a1e1-40f7-b783-b816e544b3e3",
   "metadata": {},
   "outputs": [
    {
     "name": "stdout",
     "output_type": "stream",
     "text": [
      "['Book of the New Sun', 'Neuromancer', 'Snow Crash']\n"
     ]
    }
   ],
   "source": [
    "print(my_dict[\"Sci-fi\"])"
   ]
  },
  {
   "cell_type": "code",
   "execution_count": 95,
   "id": "1943b17b-a2a6-467b-b134-8bd1ab03af9c",
   "metadata": {},
   "outputs": [
    {
     "name": "stdout",
     "output_type": "stream",
     "text": [
      "I can't read\n"
     ]
    }
   ],
   "source": [
    "my_dict[\"Sci-fi\"] = \"I can't read\"\n",
    "print(my_dict[\"Sci-fi\"])"
   ]
  },
  {
   "cell_type": "code",
   "execution_count": 96,
   "id": "fb8f159f-5a5a-41a8-8dca-a3ccf7746981",
   "metadata": {},
   "outputs": [
    {
     "name": "stdout",
     "output_type": "stream",
     "text": [
      "['Pillars of the Earth']\n"
     ]
    }
   ],
   "source": [
    "my_dict[\"Historical Fiction\"] = [\"Pillars of the Earth\"]\n",
    "print(my_dict[\"Historical Fiction\"])"
   ]
  },
  {
   "cell_type": "code",
   "execution_count": 97,
   "id": "8e56fa83-f5c7-432d-8845-ccdba978261b",
   "metadata": {},
   "outputs": [
    {
     "name": "stdout",
     "output_type": "stream",
     "text": [
      "{'High Fantasy': ['Wheel of Time', 'Lord of the Rings'], 'Sci-fi': \"I can't read\", 'Weird Fiction': ['At the Mountains of Madness', 'The House on the Borderland'], 'Historical Fiction': ['Pillars of the Earth']}\n"
     ]
    }
   ],
   "source": [
    "print(my_dict)"
   ]
  },
  {
   "cell_type": "markdown",
   "id": "83253ce4-b244-4e0f-bd95-a27e31e2c462",
   "metadata": {},
   "source": [
    "### String Shenanigans"
   ]
  },
  {
   "cell_type": "code",
   "execution_count": 98,
   "id": "a7ca80ec-5ae7-4aeb-b53c-a467912596e4",
   "metadata": {},
   "outputs": [
    {
     "name": "stdout",
     "output_type": "stream",
     "text": [
      "The first letter is: S\n",
      "The last letter is: s\n",
      "The second to last letter is: u\n",
      "The first five characters are: Super\n",
      "Reverse it!: suoicodilaipxecitsiligarfilacrepuS\n"
     ]
    }
   ],
   "source": [
    "my_string = 'Supercalifragilisticexpialidocious'\n",
    "print('The first letter is:', my_string[0]) \n",
    "print('The last letter is:', my_string[-1])\n",
    "print('The second to last letter is:', my_string[-2])\n",
    "print('The first five characters are:', my_string[:5])\n",
    "print('Reverse it!:', my_string[::-1])"
   ]
  },
  {
   "cell_type": "code",
   "execution_count": 99,
   "id": "3f8c96f2-cca3-4349-8703-b50450a1a34a",
   "metadata": {},
   "outputs": [
    {
     "name": "stdout",
     "output_type": "stream",
     "text": [
      "Count of the letter i in Supercalifragilisticexpialidocious: 7\n",
      "Count of \"li\" in Supercalifragilisticexpialidocious: 3\n"
     ]
    }
   ],
   "source": [
    "print('Count of the letter i in Supercalifragilisticexpialidocious:', my_string.count('i'))\n",
    "print('Count of \"li\" in Supercalifragilisticexpialidocious:', my_string.count('li'))"
   ]
  },
  {
   "cell_type": "code",
   "execution_count": 100,
   "id": "8e0d28c9-a427-40d3-b02a-b6e85c8c2cda",
   "metadata": {},
   "outputs": [
    {
     "name": "stdout",
     "output_type": "stream",
     "text": [
      "The first time i appears is at index: 8\n"
     ]
    }
   ],
   "source": [
    "print('The first time i appears is at index:', my_string.find('i'))"
   ]
  },
  {
   "cell_type": "code",
   "execution_count": 101,
   "id": "07ff7356-cc68-49b7-9b58-b78067259feb",
   "metadata": {},
   "outputs": [
    {
     "name": "stdout",
     "output_type": "stream",
     "text": [
      "All i's are now a's: Supercalafragalastacexpaaladocaous\n"
     ]
    }
   ],
   "source": [
    "print(\"All i's are now a's:\", my_string.replace('i', 'a'))"
   ]
  },
  {
   "cell_type": "code",
   "execution_count": 102,
   "id": "2f6ceb1c-4494-4f7f-a1a6-17c6344ebcd2",
   "metadata": {},
   "outputs": [
    {
     "name": "stdout",
     "output_type": "stream",
     "text": [
      "It's raining cats and more cats\n"
     ]
    }
   ],
   "source": [
    "print(\"It's raining cats and dogs\".replace('dogs', 'more cats'))"
   ]
  },
  {
   "cell_type": "code",
   "execution_count": 103,
   "id": "c7150a83-254c-4b4b-91a4-50cdead04c8f",
   "metadata": {},
   "outputs": [
    {
     "name": "stdout",
     "output_type": "stream",
     "text": [
      "I CAN'T HEAR YOU\n",
      "i said hello\n"
     ]
    }
   ],
   "source": [
    "my_string = \"I can't hear you\"\n",
    "print(my_string.upper())\n",
    "my_string = \"I said HELLO\"\n",
    "print(my_string.lower())"
   ]
  },
  {
   "cell_type": "markdown",
   "id": "7472140d-c54f-4e3e-927e-65db61cca7bb",
   "metadata": {},
   "source": [
    "### String Formatting"
   ]
  },
  {
   "cell_type": "markdown",
   "id": "d189fe4f-3589-451b-aad9-e667b1b56698",
   "metadata": {},
   "source": [
    "Using the `format()` method we can add in variable values and generally format our strings."
   ]
  },
  {
   "cell_type": "code",
   "execution_count": 104,
   "id": "bafbc0d3-cb47-42ed-894f-05107b33c080",
   "metadata": {},
   "outputs": [
    {
     "name": "stdout",
     "output_type": "stream",
     "text": [
      "Marco Polo\n"
     ]
    }
   ],
   "source": [
    "my_string = \"{0} {1}\".format('Marco', 'Polo')\n",
    "print(my_string)"
   ]
  },
  {
   "cell_type": "code",
   "execution_count": 105,
   "id": "b389faeb-3a1e-485d-8116-2b9b89729166",
   "metadata": {},
   "outputs": [
    {
     "name": "stdout",
     "output_type": "stream",
     "text": [
      "Polo Marco\n"
     ]
    }
   ],
   "source": [
    "my_string = \"{1} {0}\".format('Marco', 'Polo')\n",
    "print(my_string)"
   ]
  },
  {
   "cell_type": "markdown",
   "id": "11b99408-2c6c-4e73-a4b1-3d3ee26561e9",
   "metadata": {},
   "source": [
    "We use braces (`{}`) to indicate parts of the string that will be filled in later and we use the arguments of the `format()` function to provide the values to substitute. The numbers within the braces indicate the index of the value in the `format()` arguments."
   ]
  },
  {
   "cell_type": "code",
   "execution_count": 106,
   "id": "b2922b9f-235d-46ad-a27b-4218b7ae765e",
   "metadata": {},
   "outputs": [
    {
     "name": "stdout",
     "output_type": "stream",
     "text": [
      "insert value here\n"
     ]
    }
   ],
   "source": [
    "print('insert %s here' % 'value')"
   ]
  },
  {
   "cell_type": "markdown",
   "id": "9265b39c-1335-4d1c-b420-34d206009e0f",
   "metadata": {},
   "source": [
    "The `%` symbol basically cues Python to create a placeholder. Whatever character follows the `%` (in the string) indicates what sort of type the value put into the placeholder will have. This character is called a conversion type. Once the string has been closed, we need another `%` that will be followed by the values to insert. In the case of one value, you can just put it there. If you are inserting more than one value, they must be enclosed in a tuple."
   ]
  },
  {
   "cell_type": "code",
   "execution_count": 107,
   "id": "8bfc05c1-bc4b-4681-a636-153199b8ad46",
   "metadata": {},
   "outputs": [
    {
     "name": "stdout",
     "output_type": "stream",
     "text": [
      "There are 13 cats in my apartment\n"
     ]
    }
   ],
   "source": [
    "print('There are %s cats in my %s' % (13, 'apartment'))"
   ]
  },
  {
   "cell_type": "markdown",
   "id": "fb3e3f4c-6afe-4c59-b666-b02cdcd8d13d",
   "metadata": {},
   "source": [
    "`%s` indicates that Python should convert the values into strings."
   ]
  },
  {
   "cell_type": "markdown",
   "id": "2327c471-13a5-42d8-83d6-2236d85e3d58",
   "metadata": {},
   "source": [
    "### Logical Operators"
   ]
  },
  {
   "cell_type": "markdown",
   "id": "ac98f1f2-2dd2-4413-a1fa-5b20c5cce788",
   "metadata": {},
   "source": [
    "#### Basic Logic"
   ]
  },
  {
   "cell_type": "code",
   "execution_count": 108,
   "id": "97e03878-35a6-4464-b310-fc9ed6ae1610",
   "metadata": {},
   "outputs": [
    {
     "name": "stdout",
     "output_type": "stream",
     "text": [
      "Statement 1 truth value: True\n",
      "Statement 2 truth value: True\n",
      "Statement 1 and Statement 2: True\n"
     ]
    }
   ],
   "source": [
    "statement_1 = 10 > 2\n",
    "statement_2 = 4 <= 6\n",
    "print(\"Statement 1 truth value: {0}\".format(statement_1))\n",
    "print(\"Statement 2 truth value: {0}\".format(statement_2))\n",
    "print(\"Statement 1 and Statement 2: {0}\".format(statement_1 and statement_2))"
   ]
  },
  {
   "cell_type": "code",
   "execution_count": 109,
   "id": "323fa53c",
   "metadata": {},
   "outputs": [
    {
     "name": "stdout",
     "output_type": "stream",
     "text": [
      "True\n"
     ]
    }
   ],
   "source": [
    "print(((2 < 3) and (3 > 0)) or ((5 > 6) and not (4 < 2)))"
   ]
  },
  {
   "cell_type": "code",
   "execution_count": 110,
   "id": "4ced681e",
   "metadata": {},
   "outputs": [
    {
     "name": "stdout",
     "output_type": "stream",
     "text": [
      "False\n"
     ]
    }
   ],
   "source": [
    "print(bool(\"\"))"
   ]
  },
  {
   "cell_type": "code",
   "execution_count": 112,
   "id": "207ad082",
   "metadata": {},
   "outputs": [
    {
     "name": "stdout",
     "output_type": "stream",
     "text": [
      "False\n"
     ]
    }
   ],
   "source": [
    "print(bool([]))"
   ]
  },
  {
   "cell_type": "code",
   "execution_count": 113,
   "id": "51a9093c",
   "metadata": {},
   "outputs": [
    {
     "name": "stdout",
     "output_type": "stream",
     "text": [
      "True\n"
     ]
    }
   ],
   "source": [
    "print(bool([1, 2, 3]))"
   ]
  },
  {
   "cell_type": "code",
   "execution_count": 115,
   "id": "4ce60556",
   "metadata": {},
   "outputs": [
    {
     "name": "stdout",
     "output_type": "stream",
     "text": [
      "False\n"
     ]
    }
   ],
   "source": [
    "if \"\":\n",
    "    print(True)\n",
    "else:\n",
    "    print(False)"
   ]
  },
  {
   "cell_type": "code",
   "execution_count": 117,
   "id": "b9d6746a",
   "metadata": {},
   "outputs": [],
   "source": [
    "i = 4\n",
    "if i == 5:\n",
    "    print('The variable i has a value of 5')"
   ]
  },
  {
   "cell_type": "code",
   "execution_count": 120,
   "id": "3251f32c",
   "metadata": {},
   "outputs": [
    {
     "name": "stdout",
     "output_type": "stream",
     "text": [
      "All lines in this indented block are part of this block\n",
      "The variable i is not equal to 5\n"
     ]
    }
   ],
   "source": [
    "i = 4\n",
    "if i == 5:\n",
    "    print(\"All lines in this indented block are part of this block\")\n",
    "    print('The variable i has a value of 5')\n",
    "else:\n",
    "    print(\"All lines in this indented block are part of this block\")\n",
    "    print('The variable i is not equal to 5')"
   ]
  },
  {
   "cell_type": "code",
   "execution_count": 121,
   "id": "5972087d",
   "metadata": {},
   "outputs": [
    {
     "name": "stdout",
     "output_type": "stream",
     "text": [
      "The variable i has a value of 1\n"
     ]
    }
   ],
   "source": [
    "i = 1\n",
    "if i == 1:\n",
    "    print('The variable i has a value of 1')\n",
    "elif i == 2:\n",
    "    print('The variable i has a value of 2')\n",
    "elif i == 3:\n",
    "    print('The variable i has a value of 3')\n",
    "else:\n",
    "    print(\"I don't care what i is\")"
   ]
  },
  {
   "cell_type": "code",
   "execution_count": 123,
   "id": "1ba0489f",
   "metadata": {},
   "outputs": [
    {
     "name": "stdout",
     "output_type": "stream",
     "text": [
      "i is divisible by both 2 and 5! Wow!\n"
     ]
    }
   ],
   "source": [
    "i = 10\n",
    "if i % 2 == 0:\n",
    "    if i % 3 == 0:\n",
    "        print('i is divisible by both 2 and 3! Wow!')\n",
    "    elif i % 5 == 0:\n",
    "        print('i is divisible by both 2 and 5! Wow!')\n",
    "    else:\n",
    "        print('i is divisible by 2, but not 3 or 5. Meh.')\n",
    "else:\n",
    "    print('I guess that i is an odd number. Boring.')"
   ]
  },
  {
   "cell_type": "code",
   "execution_count": 124,
   "id": "a5a7c716",
   "metadata": {},
   "outputs": [
    {
     "name": "stdout",
     "output_type": "stream",
     "text": [
      "5 is less than 10 and 12 is greater than 11! How novel and interesting!\n"
     ]
    }
   ],
   "source": [
    "i = 5\n",
    "j = 12\n",
    "if i < 10 and j > 11:\n",
    "    print('{0} is less than 10 and {1} is greater than 11! How novel and interesting!'.format(i, j))"
   ]
  },
  {
   "cell_type": "code",
   "execution_count": 125,
   "id": "bdfcf57f",
   "metadata": {},
   "outputs": [
    {
     "name": "stdout",
     "output_type": "stream",
     "text": [
      "And so it was! For the glory of Rome!\n"
     ]
    }
   ],
   "source": [
    "my_string = \"Carthago delenda est\"\n",
    "if my_string == \"Carthago delenda est\":\n",
    "    print('And so it was! For the glory of Rome!')\n",
    "else:\n",
    "    print('War elephants are TERRIFYING. I am staying home.')"
   ]
  },
  {
   "cell_type": "code",
   "execution_count": 126,
   "id": "b663d386",
   "metadata": {},
   "outputs": [
    {
     "name": "stdout",
     "output_type": "stream",
     "text": [
      "Those are my favorite vowels!\n"
     ]
    }
   ],
   "source": [
    "if 'a' in my_string or 'e' in my_string:\n",
    "    print('Those are my favorite vowels!')"
   ]
  },
  {
   "cell_type": "markdown",
   "id": "b0f1ad46",
   "metadata": {},
   "source": [
    "### Loop Structures"
   ]
  },
  {
   "cell_type": "code",
   "execution_count": 130,
   "id": "42618e32",
   "metadata": {},
   "outputs": [
    {
     "name": "stdout",
     "output_type": "stream",
     "text": [
      "I am looping! 4 more to go!\n",
      "I am looping! 3 more to go!\n",
      "I am looping! 2 more to go!\n",
      "I am looping! 1 more to go!\n",
      "I am looping! 0 more to go!\n"
     ]
    }
   ],
   "source": [
    "i = 5\n",
    "while i > 0:\n",
    "    i -= 1\n",
    "    print('I am looping! {0} more to go!'.format(i))"
   ]
  },
  {
   "cell_type": "code",
   "execution_count": 133,
   "id": "08cb72fa",
   "metadata": {},
   "outputs": [
    {
     "name": "stdout",
     "output_type": "stream",
     "text": [
      "I am looping! I have looped 1 times!\n",
      "I am looping! I have looped 2 times!\n",
      "I am looping! I have looped 3 times!\n",
      "I am looping! I have looped 4 times!\n",
      "I am looping! I have looped 5 times!\n"
     ]
    }
   ],
   "source": [
    "for i in range(5):\n",
    "    print('I am looping! I have looped {0} times!'.format(i+1))"
   ]
  },
  {
   "cell_type": "code",
   "execution_count": 134,
   "id": "de88befb",
   "metadata": {},
   "outputs": [
    {
     "name": "stdout",
     "output_type": "stream",
     "text": [
      "{'cows', 'dogs', 'humans', 'bats', 'cats'}\n"
     ]
    }
   ],
   "source": [
    "my_list = {'cats', 'dogs', 'lizards', 'cows', 'bats', 'sponges', 'humans'} # Lists all the animals in the world\n",
    "mammal_list = {'cats', 'dogs', 'cows', 'bats', 'humans'} # Lists all the mammals in the world\n",
    "my_new_list = set()\n",
    "for animal in my_list:\n",
    "    if animal in mammal_list:\n",
    "        # This adds any animal that is both in my_list and mammal_list to my_new_list\n",
    "        my_new_list.add(animal)\n",
    "        \n",
    "print(my_new_list)"
   ]
  },
  {
   "cell_type": "code",
   "execution_count": 135,
   "id": "94c800b4",
   "metadata": {},
   "outputs": [
    {
     "name": "stdout",
     "output_type": "stream",
     "text": [
      "11\n",
      "12\n",
      "13\n",
      "14\n"
     ]
    }
   ],
   "source": [
    "i = 10\n",
    "while True:\n",
    "    if i == 14:\n",
    "        break\n",
    "    i += 1\n",
    "    print(i)"
   ]
  },
  {
   "cell_type": "code",
   "execution_count": 136,
   "id": "d6301a91",
   "metadata": {},
   "outputs": [
    {
     "name": "stdout",
     "output_type": "stream",
     "text": [
      "0\n",
      "1\n"
     ]
    }
   ],
   "source": [
    "for i in range(5):\n",
    "    if i == 2:\n",
    "        break\n",
    "    print(i)"
   ]
  },
  {
   "cell_type": "markdown",
   "id": "24c7d7eb",
   "metadata": {},
   "source": [
    "The `continue` statement will tell the loop to immediately end this iteration and continue onto the next iteration of the loop."
   ]
  },
  {
   "cell_type": "code",
   "execution_count": 137,
   "id": "d43716f0",
   "metadata": {},
   "outputs": [
    {
     "name": "stdout",
     "output_type": "stream",
     "text": [
      "1\n",
      "2\n",
      "4\n",
      "5\n"
     ]
    }
   ],
   "source": [
    "i = 0\n",
    "while i < 5:\n",
    "    i += 1\n",
    "    if i == 3:\n",
    "        continue\n",
    "    print(i)"
   ]
  },
  {
   "cell_type": "code",
   "execution_count": 138,
   "id": "eb2ee2b6",
   "metadata": {},
   "outputs": [
    {
     "name": "stdout",
     "output_type": "stream",
     "text": [
      "I am eternal! I am 0 and I exist everywhere!\n",
      "I am eternal! I am 1 and I exist everywhere!\n",
      "I am eternal! I am 2 and I exist everywhere!\n",
      "I am eternal! I am 3 and I exist everywhere!\n",
      "I am eternal! I am 4 and I exist everywhere!\n",
      "I persist! My value is 4\n",
      "I transcend the loop!\n"
     ]
    }
   ],
   "source": [
    "for i in range(5):\n",
    "    loop_string = 'I transcend the loop!'\n",
    "    print('I am eternal! I am {0} and I exist everywhere!'.format(i))\n",
    "\n",
    "print('I persist! My value is {0}'.format(i))\n",
    "print(loop_string)"
   ]
  },
  {
   "cell_type": "code",
   "execution_count": 141,
   "id": "2221d86e",
   "metadata": {},
   "outputs": [],
   "source": [
    "my_dict = {'firstname':'Inigo', 'lastname':'Montoya', 'nemesis':'Rugen'}"
   ]
  },
  {
   "cell_type": "code",
   "execution_count": 144,
   "id": "da407823",
   "metadata": {},
   "outputs": [
    {
     "name": "stdout",
     "output_type": "stream",
     "text": [
      "Inigo\n",
      "Montoya\n",
      "Rugen\n"
     ]
    }
   ],
   "source": [
    "for key in my_dict:\n",
    "    print(my_dict[key])"
   ]
  },
  {
   "cell_type": "code",
   "execution_count": 146,
   "id": "91dbfa15",
   "metadata": {},
   "outputs": [
    {
     "name": "stdout",
     "output_type": "stream",
     "text": [
      "firstname : Inigo\n",
      "lastname : Montoya\n",
      "nemesis : Rugen\n"
     ]
    }
   ],
   "source": [
    "for i, j in my_dict.items():\n",
    "    print(i, ':', j)"
   ]
  },
  {
   "cell_type": "markdown",
   "id": "8990274a",
   "metadata": {},
   "source": [
    "The `items()` function creates a tuple of each key-value pair and the for loop unpacks that tuple into key, value on each separate execution of the loop!"
   ]
  },
  {
   "cell_type": "markdown",
   "id": "186643a3",
   "metadata": {},
   "source": [
    "### Functions"
   ]
  },
  {
   "cell_type": "code",
   "execution_count": null,
   "id": "e058ad18",
   "metadata": {},
   "outputs": [],
   "source": []
  }
 ],
 "metadata": {
  "kernelspec": {
   "display_name": "Python 3 (ipykernel)",
   "language": "python",
   "name": "python3"
  },
  "language_info": {
   "codemirror_mode": {
    "name": "ipython",
    "version": 3
   },
   "file_extension": ".py",
   "mimetype": "text/x-python",
   "name": "python",
   "nbconvert_exporter": "python",
   "pygments_lexer": "ipython3",
   "version": "3.11.1"
  }
 },
 "nbformat": 4,
 "nbformat_minor": 5
}
